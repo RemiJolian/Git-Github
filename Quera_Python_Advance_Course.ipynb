{
  "nbformat": 4,
  "nbformat_minor": 0,
  "metadata": {
    "colab": {
      "provenance": [],
      "authorship_tag": "ABX9TyM/jTPQaRJSxTxX18oqhaLT",
      "include_colab_link": true
    },
    "kernelspec": {
      "name": "python3",
      "display_name": "Python 3"
    },
    "language_info": {
      "name": "python"
    }
  },
  "cells": [
    {
      "cell_type": "markdown",
      "metadata": {
        "id": "view-in-github",
        "colab_type": "text"
      },
      "source": [
        "<a href=\"https://colab.research.google.com/github/RemiJolian/Git-Github/blob/main/Quera_Python_Advance_Course.ipynb\" target=\"_parent\"><img src=\"https://colab.research.google.com/assets/colab-badge.svg\" alt=\"Open In Colab\"/></a>"
      ]
    },
    {
      "cell_type": "markdown",
      "source": [
        "# Quera_Python_Advance_Course"
      ],
      "metadata": {
        "id": "8t02VnksciiE"
      }
    },
    {
      "cell_type": "markdown",
      "source": [
        "First,Review:"
      ],
      "metadata": {
        "id": "RqKqCxTScmho"
      }
    },
    {
      "cell_type": "code",
      "source": [
        "n = float(input())\n",
        "print(int(n))\n",
        "print(type(n))"
      ],
      "metadata": {
        "id": "QbNoJ6NTctTV"
      },
      "execution_count": null,
      "outputs": []
    },
    {
      "cell_type": "code",
      "source": [
        "t = int(input())\n",
        "\n",
        "if t >100:\n",
        "    print('Steam')\n",
        "elif t < 0:\n",
        "    print('Ice')\n",
        "else:\n",
        "    print('Water')"
      ],
      "metadata": {
        "id": "h9FJ__kHc9ue"
      },
      "execution_count": null,
      "outputs": []
    },
    {
      "cell_type": "code",
      "source": [
        "s = [['s', 'd', 'f', 'g'], ['e', 'd']]\n",
        "for word in s:\n",
        "    for ch in word:\n",
        "        print(ch,end=' ')"
      ],
      "metadata": {
        "colab": {
          "base_uri": "https://localhost:8080/"
        },
        "id": "485O4vu6mZAs",
        "outputId": "d7ddc9c3-68bc-4f5d-a5c6-d4efa29f53d2"
      },
      "execution_count": null,
      "outputs": [
        {
          "output_type": "stream",
          "name": "stdout",
          "text": [
            "s d f g e d "
          ]
        }
      ]
    },
    {
      "cell_type": "code",
      "source": [
        "words = ['salam', 'khoobi?', 'na']\n",
        "\n",
        "for i in range(len(words)):\n",
        "    print(words[i])\n",
        "\n",
        "for i in range(0, len(words), 2):\n",
        "    print(\" *** \" + words[i])"
      ],
      "metadata": {
        "colab": {
          "base_uri": "https://localhost:8080/"
        },
        "id": "lPCcutxhnN0G",
        "outputId": "b49e4ac1-6efc-4a88-8d34-f8fdb048fc17"
      },
      "execution_count": null,
      "outputs": [
        {
          "output_type": "stream",
          "name": "stdout",
          "text": [
            "salam\n",
            "khoobi?\n",
            "na\n",
            " *** salam\n",
            " *** na\n"
          ]
        }
      ]
    },
    {
      "cell_type": "markdown",
      "source": [
        "Jadval Zarb:"
      ],
      "metadata": {
        "id": "EwpsNOm9r0Mv"
      }
    },
    {
      "cell_type": "code",
      "source": [
        "n = int(input())\n",
        "\n",
        "for i in range(1,n+1):\n",
        "    for j in range(1,n+1):\n",
        "        print(i*j,end=' ')\n",
        "    print()"
      ],
      "metadata": {
        "id": "tS2Y6jfGpXd8",
        "colab": {
          "base_uri": "https://localhost:8080/"
        },
        "outputId": "7fa60968-918c-4fc5-b28a-599149f54805"
      },
      "execution_count": null,
      "outputs": [
        {
          "output_type": "stream",
          "name": "stdout",
          "text": [
            "7\n",
            "1 2 3 4 5 6 7 \n",
            "2 4 6 8 10 12 14 \n",
            "3 6 9 12 15 18 21 \n",
            "4 8 12 16 20 24 28 \n",
            "5 10 15 20 25 30 35 \n",
            "6 12 18 24 30 36 42 \n",
            "7 14 21 28 35 42 49 \n"
          ]
        }
      ]
    },
    {
      "cell_type": "markdown",
      "source": [
        "kochektarin mazrab:"
      ],
      "metadata": {
        "id": "Mlr3hikvfpNe"
      }
    },
    {
      "cell_type": "code",
      "source": [
        "p, d = map(int,input().split())\n",
        "\n",
        "i = 1\n",
        "while (i*d) % p > (p/2):\n",
        "    i = i + 1\n",
        "print(i*d)"
      ],
      "metadata": {
        "id": "iUJWM930m8Qq"
      },
      "execution_count": null,
      "outputs": []
    },
    {
      "cell_type": "markdown",
      "source": [
        "combination, or tarjib in math, tabe' entekhabi:"
      ],
      "metadata": {
        "id": "KHUuijn79k2Q"
      }
    },
    {
      "cell_type": "code",
      "source": [
        "def comb(n, k):\n",
        "    import math\n",
        "    if n >= k:\n",
        "        t = math.factorial(n-k)\n",
        "        n = math.factorial(n)\n",
        "        k = math.factorial(k)\n",
        "        return int(n/(t * k))\n",
        "    else:\n",
        "        return 0\n",
        "comb(10,2)"
      ],
      "metadata": {
        "colab": {
          "base_uri": "https://localhost:8080/"
        },
        "id": "AQKIk7lDq6Tf",
        "outputId": "d18fd6f9-7484-4f24-84c2-aaf34f9b4795"
      },
      "execution_count": null,
      "outputs": [
        {
          "output_type": "execute_result",
          "data": {
            "text/plain": [
              "0"
            ]
          },
          "metadata": {},
          "execution_count": 7
        }
      ]
    },
    {
      "cell_type": "markdown",
      "source": [
        "OR:"
      ],
      "metadata": {
        "id": "3KJCjDEn9ujv"
      }
    },
    {
      "cell_type": "code",
      "source": [
        "def comb(n, k):\n",
        "    ans = 1\n",
        "    for i in range(n-k+1, n+1):\n",
        "        ans *= i\n",
        "    for i in range(1, k+1):\n",
        "        ans /= i\n",
        "    return ans\n"
      ],
      "metadata": {
        "id": "Efq3fA5G9wbE"
      },
      "execution_count": null,
      "outputs": []
    },
    {
      "cell_type": "code",
      "source": [
        "from math import factorial as f\n",
        "def comb(n, k):\n",
        "    if k>n:\n",
        "        return 0\n",
        "    else:\n",
        "        return (f(n)/(f(k)*f(n-k)))\n",
        "    pass\n",
        "\n",
        "\n"
      ],
      "metadata": {
        "id": "cjc8jonV-STn"
      },
      "execution_count": null,
      "outputs": []
    },
    {
      "cell_type": "markdown",
      "source": [
        "and OR:"
      ],
      "metadata": {
        "id": "-dUGPw_F-jgB"
      }
    },
    {
      "cell_type": "code",
      "source": [
        "def comb(n, k):\n",
        "    if k == 0 :\n",
        "        return 1\n",
        "    elif k == 1 :\n",
        "        return n\n",
        "    elif k == n :\n",
        "        return 1\n",
        "    elif k > n :\n",
        "        return 0\n",
        "    else :\n",
        "        return fac(n) / (fac(k) * fac(n - k))\n",
        "\n",
        "def fac(n) :\n",
        "    if n == 0 or n == 1 :\n",
        "        return 1\n",
        "    temp = 1\n",
        "    for i in range(2, n + 1) :\n",
        "        temp *= i\n",
        "    return temp"
      ],
      "metadata": {
        "id": "GKBvqBfp-lsy"
      },
      "execution_count": null,
      "outputs": []
    },
    {
      "cell_type": "code",
      "source": [
        "import math\n",
        "\n",
        "\n",
        "def comb(n, k):\n",
        "    if n - k < 0:\n",
        "        return 0\n",
        "    return math.factorial(n) // (math.factorial(k) * math.factorial(n - k))"
      ],
      "metadata": {
        "id": "zCk82Lnk-syv"
      },
      "execution_count": null,
      "outputs": []
    },
    {
      "cell_type": "markdown",
      "source": [
        "Use math Library:"
      ],
      "metadata": {
        "id": "eJX41ayHKYEN"
      }
    },
    {
      "cell_type": "code",
      "source": [
        "import math\n",
        "print(math.gcd(4,24)) #greatest common factor number that divides them\n",
        "print(math.fabs(-3))\n",
        "print(math.factorial(4))\n",
        "print(math.pow(2,4))  # 2 ^^4\n",
        "print(math.log(8))\n",
        "print(math.log(8,2)) # = 3, 2 ^^ 3 = 8\n",
        "print(math.sqrt(25))  #jazr\n",
        "print(math.sin(3))   # sinos\n",
        "print(math.radians(8)) # degree to radian\n",
        "print(math.floor(3.2))\n",
        "print('--------')\n",
        "print(math.pi)  # 3.14159..."
      ],
      "metadata": {
        "colab": {
          "base_uri": "https://localhost:8080/"
        },
        "id": "8TwTjPvDKA7j",
        "outputId": "25ed05a7-a8a7-4c39-ca44-b3a2f42ad297"
      },
      "execution_count": null,
      "outputs": [
        {
          "output_type": "stream",
          "name": "stdout",
          "text": [
            "4\n",
            "3.0\n",
            "24\n",
            "16.0\n",
            "2.0794415416798357\n",
            "3.0\n",
            "5.0\n",
            "0.1411200080598672\n",
            "0.13962634015954636\n",
            "3\n",
            "--------\n",
            "3.141592653589793\n"
          ]
        }
      ]
    },
    {
      "cell_type": "markdown",
      "source": [
        "Mohasebat sakht:"
      ],
      "metadata": {
        "id": "VGkh1oOmA4ub"
      }
    },
    {
      "cell_type": "code",
      "source": [
        "import math\n",
        "def f(x):\n",
        "\n",
        "    m = math.pow(x,5/3) + math.tan(math.radians(x))\n",
        "    m = math.floor(m)\n",
        "    n = math.pow(math.pi,(2 + math.atan((math.sin(math.radians(x)) ** 2))))\n",
        "    n = math.floor(n)\n",
        "    return math.gcd(m,n)\n",
        "f(5)"
      ],
      "metadata": {
        "colab": {
          "base_uri": "https://localhost:8080/"
        },
        "id": "z8AY96euA71g",
        "outputId": "37c1d2f6-b43d-4fec-bdb7-0669d1aa2f1c"
      },
      "execution_count": null,
      "outputs": [
        {
          "output_type": "execute_result",
          "data": {
            "text/plain": [
              "1"
            ]
          },
          "metadata": {},
          "execution_count": 26
        }
      ]
    },
    {
      "cell_type": "markdown",
      "source": [
        "# Date and time Library:"
      ],
      "metadata": {
        "id": "jkJoC2d3Sk-G"
      }
    },
    {
      "cell_type": "code",
      "source": [
        "from datetime import time       # time and date are read only.\n",
        "t = time(17,21,22)\n",
        "print(t)\n",
        "\n",
        "from datetime import date\n",
        "d = date(2023,5,27)\n",
        "print(d)"
      ],
      "metadata": {
        "colab": {
          "base_uri": "https://localhost:8080/"
        },
        "id": "kT6ev6rESqGp",
        "outputId": "37c4161c-2589-490e-b950-dfdc42c56f90"
      },
      "execution_count": null,
      "outputs": [
        {
          "output_type": "stream",
          "name": "stdout",
          "text": [
            "17:21:22\n",
            "2023-05-27\n"
          ]
        }
      ]
    },
    {
      "cell_type": "code",
      "source": [
        "from datetime import datetime\n",
        "dt = datetime(2022,5,14,14,29,30)\n",
        "print(dt)"
      ],
      "metadata": {
        "colab": {
          "base_uri": "https://localhost:8080/"
        },
        "id": "ap_LmVBrUpAQ",
        "outputId": "2b5034ae-b6e5-4fa9-ee15-3c607de52b64"
      },
      "execution_count": null,
      "outputs": [
        {
          "output_type": "stream",
          "name": "stdout",
          "text": [
            "2022-05-14 14:29:30\n"
          ]
        }
      ]
    },
    {
      "cell_type": "code",
      "source": [
        "datetime.now()"
      ],
      "metadata": {
        "colab": {
          "base_uri": "https://localhost:8080/"
        },
        "id": "AmQnP-V_VRSy",
        "outputId": "f2cf0c08-d34e-4b8c-968f-7076cd4c5118"
      },
      "execution_count": null,
      "outputs": [
        {
          "output_type": "execute_result",
          "data": {
            "text/plain": [
              "datetime.datetime(2023, 6, 2, 5, 20, 56, 735078)"
            ]
          },
          "metadata": {},
          "execution_count": 9
        }
      ]
    },
    {
      "cell_type": "markdown",
      "source": [
        "How to convert string to date:"
      ],
      "metadata": {
        "id": "itx7wqLRiYcD"
      }
    },
    {
      "cell_type": "code",
      "source": [
        "from datetime import datetime\n",
        "date = datetime.strptime('2005-01-06', '%Y-%m-%d')\n",
        "print(\"day:\", date.day)\n",
        "print(\"month:\", date.month)\n",
        "print(\"year:\", date.year)"
      ],
      "metadata": {
        "id": "akfkODUXidsl",
        "colab": {
          "base_uri": "https://localhost:8080/"
        },
        "outputId": "d03dea29-c88f-4ab5-8601-cfabdf48b433"
      },
      "execution_count": null,
      "outputs": [
        {
          "output_type": "stream",
          "name": "stdout",
          "text": [
            "day: 6\n",
            "month: 1\n",
            "year: 2005\n"
          ]
        }
      ]
    },
    {
      "cell_type": "markdown",
      "source": [
        "# Chan rozeshe?Sajad:"
      ],
      "metadata": {
        "id": "nJyU-POVfD6Y"
      }
    },
    {
      "cell_type": "markdown",
      "source": [
        "this solution is wrong, notice:   # why? becuase we do not use datetime library in line ...:"
      ],
      "metadata": {
        "id": "LecSnIc3mnrx"
      }
    },
    {
      "cell_type": "code",
      "source": [
        "def day_calculator(date_inter):\n",
        "\n",
        " from datetime import datetime\n",
        " date_inter = datetime.strptime('2005-01-06', '%Y-%m-%d')\n",
        " sajad_b = datetime.strptime('1999-01-14', 'Y-%m-%d')\n",
        " y = (date_inter.year - sajad_b.year) * 365\n",
        " m = (date_inter.mounth - sajad_b.mounth) * 30\n",
        " d = (date_inter.day - sajad_b)\n",
        " if y < 0 or (y == 0 and m < 0):\n",
        "    return 'Not yet born'\n",
        " else:\n",
        "    ans = y + m + d\n",
        "    return ans"
      ],
      "metadata": {
        "id": "g5pL6JO1fJK2"
      },
      "execution_count": null,
      "outputs": []
    },
    {
      "cell_type": "markdown",
      "source": [
        "This is ok:"
      ],
      "metadata": {
        "id": "EeBu3jrGydO2"
      }
    },
    {
      "cell_type": "code",
      "source": [
        "def calculate_date(date_inter):\n",
        "  from datetime import datetime\n",
        "  date_inter = datetime.strptime('2018-10-12', '%Y-%m-%d')\n",
        "  sajad_b = datetime.strptime('1999-01-14', '%Y-%m-%d')\n",
        "  div = (date_inter - sajad_b).days\n",
        "  if div < 0:\n",
        "    return \"Not born yet\"\n",
        "  else:\n",
        "    return div\n",
        "\n",
        "calculate_date('1999-08-07')\n"
      ],
      "metadata": {
        "id": "PlZ14j9yjsZx"
      },
      "execution_count": null,
      "outputs": []
    },
    {
      "cell_type": "code",
      "source": [
        "from datetime import datetime\n",
        "  date_inter = datetime.strptime('2018-10-12', '%Y-%m-%d')"
      ],
      "metadata": {
        "id": "scrSyTygzFo-"
      },
      "execution_count": null,
      "outputs": []
    },
    {
      "cell_type": "markdown",
      "source": [
        "notice this point:"
      ],
      "metadata": {
        "id": "iDdNz8KXneoU"
      }
    },
    {
      "cell_type": "code",
      "source": [
        "from datetime import datetime\n",
        "date = datetime.strptime('2005-01-06', '%Y-%m-%d')\n",
        "print(\"day:\", date.day)\n",
        "print(\"month:\", date.month)\n",
        "print(\"year:\", date.year)\n",
        "print(date)"
      ],
      "metadata": {
        "id": "Fs70Y9tgkwMp"
      },
      "execution_count": null,
      "outputs": []
    },
    {
      "cell_type": "markdown",
      "source": [
        "# Strings:"
      ],
      "metadata": {
        "id": "Wz8Ajldt4Dx3"
      }
    },
    {
      "cell_type": "code",
      "source": [
        "s = \"Hello \"\n",
        "t = '!'\n",
        "name = input()\n",
        "print(s + name + t)"
      ],
      "metadata": {
        "id": "vw7fF_pW4GTb",
        "colab": {
          "base_uri": "https://localhost:8080/"
        },
        "outputId": "c8ae37f5-202e-4c6e-fdc0-2a8ab33d06ea"
      },
      "execution_count": null,
      "outputs": [
        {
          "output_type": "stream",
          "name": "stdout",
          "text": [
            "dak\n",
            "Hello dak!\n"
          ]
        }
      ]
    },
    {
      "cell_type": "code",
      "source": [
        ">>> s = 'spartacus'\n",
        ">>> s.removeprefix('s')\n",
        "'partacus'\n",
        ">>> s.removeprefix('spar')\n",
        "'tacus'\n",
        ">>> s.removeprefix('part')\n",
        "'spartacus'\n",
        ">>> s.removesuffix('s')\n",
        "'spartacu'\n",
        ">>> s.removesuffix('acus')\n",
        "'spart'\n",
        ">>> s.removesuffix('tacu')\n",
        "'spartacus'"
      ],
      "metadata": {
        "colab": {
          "base_uri": "https://localhost:8080/",
          "height": 35
        },
        "id": "7dnn-Z0l8h6K",
        "outputId": "0bd8ce30-f0e0-4b28-d57e-1fa4d18a11b1"
      },
      "execution_count": null,
      "outputs": [
        {
          "output_type": "execute_result",
          "data": {
            "text/plain": [
              "'spartacus'"
            ],
            "application/vnd.google.colaboratory.intrinsic+json": {
              "type": "string"
            }
          },
          "metadata": {},
          "execution_count": 1
        }
      ]
    },
    {
      "cell_type": "markdown",
      "source": [
        "# Names, Karim:"
      ],
      "metadata": {
        "id": "GOGkhnbkDyz-"
      }
    },
    {
      "cell_type": "code",
      "source": [
        "n = int(input())\n",
        "names = []\n",
        "max = 0\n",
        "for i in range(n):\n",
        "    name = input()\n",
        "    names.append(name)\n",
        "for i in names:\n",
        "  c = 0\n",
        "  s = []\n",
        "  for j in range(len(i)):\n",
        "     if i[j] not in s:\n",
        "        s.append(i[j])\n",
        "        c += 1\n",
        "  s = []\n",
        "  if max <= c:\n",
        "    max = c\n",
        "\n",
        "print(max)\n",
        "\n"
      ],
      "metadata": {
        "id": "3V9ribj0D2X3"
      },
      "execution_count": null,
      "outputs": []
    },
    {
      "cell_type": "code",
      "source": [
        "n = int(input())\n",
        "ans = 0\n",
        "for i in range(n):\n",
        "\tname = input()\n",
        "\tdif = \"\"\n",
        "\tfor j in name:\n",
        "\t\tif j not in dif:\n",
        "\t\t\tdif = dif + j\n",
        "\tans = max(ans, len(dif))\n",
        "print(ans)"
      ],
      "metadata": {
        "id": "FItcfMDbzXyB"
      },
      "execution_count": null,
      "outputs": []
    },
    {
      "cell_type": "markdown",
      "source": [
        "and OR"
      ],
      "metadata": {
        "id": "H1NTF0x3zguy"
      }
    },
    {
      "cell_type": "code",
      "source": [
        "n=int(input())\n",
        "l=[]\n",
        "for i in range(n):\n",
        "    l.append(len(set(input())))\n",
        "\n",
        "print(int(max(l)))\n"
      ],
      "metadata": {
        "id": "xRY-GOMzzjYA"
      },
      "execution_count": null,
      "outputs": []
    },
    {
      "cell_type": "markdown",
      "source": [
        "# Password(ramz of gawsandogh):"
      ],
      "metadata": {
        "id": "0I0E-auUoz6h"
      }
    },
    {
      "cell_type": "code",
      "source": [
        "k = int(input())\n",
        "password = input()\n",
        "selector = []\n",
        "ans = 0\n",
        "for i in range(len(password)):\n",
        "  selector.append(input())\n",
        "for i in range(k):\n",
        "  for j in range(9):\n",
        "    if password[i] == selector[i][j]:\n",
        "      break\n",
        "  if j > 9//2:\n",
        "    ans += 9 - j\n",
        "  else:\n",
        "    ans += j\n",
        "print(ans)\n"
      ],
      "metadata": {
        "id": "_5_gfgKmpDHd"
      },
      "execution_count": null,
      "outputs": []
    },
    {
      "cell_type": "markdown",
      "source": [
        "# OR these answer:"
      ],
      "metadata": {
        "id": "LI6mHfMF1g4E"
      }
    },
    {
      "cell_type": "code",
      "source": [
        "k = int(input())\n",
        "password = input()\n",
        "ans = 0\n",
        "for i in password:\n",
        "\tselector = input()\n",
        "\tmoves = selector.find(i)\n",
        "\tans = ans + min(moves, 9 - moves)\n",
        "print(ans)"
      ],
      "metadata": {
        "id": "ROGSf-kb1i0f"
      },
      "execution_count": null,
      "outputs": []
    },
    {
      "cell_type": "code",
      "source": [
        "def kooch(a, b,):\n",
        "    l=[]\n",
        "    b =str(b)+ '.'\n",
        "    h = str(b).split(str(a))\n",
        "    for x in h:\n",
        "        l.append(len(x))\n",
        "\n",
        "    return min(l)\n",
        "\n",
        "k = int(input())\n",
        "r = input()\n",
        "d = list(r)\n",
        "o=0\n",
        "w=0\n",
        "while o<k:\n",
        "    w += kooch(d[o],b = input())\n",
        "    o+=1\n",
        "print(w)"
      ],
      "metadata": {
        "id": "8fVcJv3R1oMa"
      },
      "execution_count": null,
      "outputs": []
    },
    {
      "cell_type": "code",
      "source": [
        "def jash(adad, reshte):\n",
        "    ja = reshte.index(adad)\n",
        "    if ja>4:\n",
        "        return (9 - ja)\n",
        "    else:\n",
        "        return ja\n",
        "k = int(input())\n",
        "rkr = input()\n",
        "ans = 0\n",
        "for i in range(k):\n",
        "    charkh = input()\n",
        "    ans += jash(rkr[i], charkh)\n",
        "print(ans)"
      ],
      "metadata": {
        "id": "Vb_i2xCg10l8"
      },
      "execution_count": null,
      "outputs": []
    },
    {
      "cell_type": "code",
      "source": [
        "k = int(input())\n",
        "code = input()\n",
        "count = 0\n",
        "for i in range(k):\n",
        "    order = input()\n",
        "    index = order.find(code[i])\n",
        "\n",
        "    if(index <= 4):\n",
        "        count += index\n",
        "    else:\n",
        "        count += ((8 - index) + 1)\n",
        "print(count)"
      ],
      "metadata": {
        "id": "MFtMexXW17VZ"
      },
      "execution_count": null,
      "outputs": []
    },
    {
      "cell_type": "markdown",
      "source": [
        "% d"
      ],
      "metadata": {
        "id": "AEC05pi8-2SY"
      }
    },
    {
      "cell_type": "markdown",
      "source": [
        "# string"
      ],
      "metadata": {
        "id": "E9RDCIA7IT6j"
      }
    },
    {
      "cell_type": "code",
      "source": [
        "age = 12\n",
        "height = 178.5\n",
        "isMale = True\n",
        "print(f'Age : {age}, Height : {height}, Gender : {isMale}')"
      ],
      "metadata": {
        "id": "6tOUfaDXMj_C",
        "colab": {
          "base_uri": "https://localhost:8080/"
        },
        "outputId": "c44e8aa1-6f35-4ffd-99ad-ed174dd1f4fb"
      },
      "execution_count": null,
      "outputs": [
        {
          "output_type": "stream",
          "name": "stdout",
          "text": [
            "Age : 12, Height : 178.5, Gender : True\n"
          ]
        }
      ]
    },
    {
      "cell_type": "code",
      "source": [
        "variable = 5\n",
        "f\"{variable=}\""
      ],
      "metadata": {
        "id": "OYryh8EEJgJ8"
      },
      "execution_count": null,
      "outputs": []
    },
    {
      "cell_type": "code",
      "source": [
        "greeting = \"Hello %s!\"\n",
        "name = input(\"Please enter your name:\\n\")\n",
        "print(greeting % name)"
      ],
      "metadata": {
        "id": "3w1QETL-JaqQ"
      },
      "execution_count": null,
      "outputs": []
    },
    {
      "cell_type": "code",
      "source": [
        "greeting = \"Hello %s with %d years old!\"\n",
        "name = input(\"Please enter your name:\\n\")\n",
        "age = int(input(\"Please enter your age:\\n\"))\n",
        "print(greeting % (name, age))"
      ],
      "metadata": {
        "id": "vCFf6d9LJXbn"
      },
      "execution_count": null,
      "outputs": []
    },
    {
      "cell_type": "markdown",
      "source": [
        "# format"
      ],
      "metadata": {
        "id": "xdsWjJXuEEfO"
      }
    },
    {
      "cell_type": "code",
      "source": [
        "greeting = \"Hello {} with {} years old!\"\n",
        "name = input(\"Please enter your name:\\n\")\n",
        "age = int(input(\"Please enter your age:\\n\"))\n",
        "print(greeting.format(name, age))"
      ],
      "metadata": {
        "id": "VnbOib5DT5b3"
      },
      "execution_count": null,
      "outputs": []
    },
    {
      "cell_type": "code",
      "source": [
        "\"{:+} {:+} {:+}\".format(241.1, -124.21, 0)\n",
        "#'+241.1 -124.21 +0'  add + sign to positive numbers\n",
        "\"{:.3f} {:.3f}\".format(122, 33.22191)\n",
        "#'122.000 33.222'\n",
        "\"{:b} {:b}\".format(-34, 21)\n",
        "#'-100010 10101'  binary\n",
        "\"{:x} {:x}\".format(241, 124)\n",
        "#'f1 7c' mabnaye 16\n",
        "\"{:o} {:o}\".format(241, 124)\n",
        "#'361 174' mabnaye 8\n",
        "\"{:0=8} {:1=8} {:2=2}\".format(12, 21.12, 312)\n",
        "#'00000012 11121.12 312' yتا زمانی که طول رشته از\n",
        "x کمتر باشد، به ابتدای آن کاراکتر\n",
        "اضافه میکند\n"
      ],
      "metadata": {
        "id": "nIvn1Eg5ERhh"
      },
      "execution_count": null,
      "outputs": []
    },
    {
      "cell_type": "code",
      "source": [
        "\"Hello {0} with {1} years old!\".format(\"Ali\", \"23\")\n",
        "#'Hello Ali with 23 years old!'\n",
        "\"Hello {name} with {age} years old!\".format(name = \"Ali\", age = \"23\")\n",
        "#'Hello Ali with 23 years old!'\n",
        "\"Hello {0} with {age} years old!\".format(\"Ali\", age = \"23\")\n",
        "#'Hello Ali with 23 years old!'"
      ],
      "metadata": {
        "id": "FSga3W6HLQsZ"
      },
      "execution_count": null,
      "outputs": []
    },
    {
      "cell_type": "code",
      "source": [
        "\"{0:.3f} {0:+}\".format(23.12)\n",
        "#'23.120 +23.12'\n",
        "\"{num:.3f} {num:+}\".format(num=23.12)\n",
        "#'23.120 +23.12'"
      ],
      "metadata": {
        "colab": {
          "base_uri": "https://localhost:8080/",
          "height": 35
        },
        "id": "hUrLtxNSLwjk",
        "outputId": "0f362f1d-4e4f-4a44-b874-d21881e45063"
      },
      "execution_count": null,
      "outputs": [
        {
          "output_type": "execute_result",
          "data": {
            "text/plain": [
              "'23.120 +23.12'"
            ],
            "application/vnd.google.colaboratory.intrinsic+json": {
              "type": "string"
            }
          },
          "metadata": {},
          "execution_count": 9
        }
      ]
    },
    {
      "cell_type": "markdown",
      "source": [
        "Shomordan sakht:"
      ],
      "metadata": {
        "id": "L1YRXhLZaOgY"
      }
    },
    {
      "cell_type": "code",
      "source": [
        "print('{:b}'.format(int(input())).count('1'))"
      ],
      "metadata": {
        "colab": {
          "base_uri": "https://localhost:8080/"
        },
        "id": "8Xgbd5QPaRPY",
        "outputId": "73d7e83f-5fb5-471f-c783-1a846d8d5b68"
      },
      "execution_count": null,
      "outputs": [
        {
          "output_type": "stream",
          "name": "stdout",
          "text": [
            "220\n",
            "5\n"
          ]
        }
      ]
    },
    {
      "cell_type": "code",
      "source": [
        "# and this solution\n",
        "print(bin(int(input())).count('1'))"
      ],
      "metadata": {
        "id": "9po5O_gbbQZt"
      },
      "execution_count": null,
      "outputs": []
    },
    {
      "cell_type": "code",
      "source": [
        "n = int(input())\n",
        "m = '{:b}'.format(n)\n",
        "c = 0\n",
        "for i in m:\n",
        "    if i == '1':\n",
        "        c += 1\n",
        "print(c)"
      ],
      "metadata": {
        "id": "jZbgV8K-abmX"
      },
      "execution_count": null,
      "outputs": []
    },
    {
      "cell_type": "code",
      "source": [
        "mobile_number = input()\n",
        "if len(mobile_number) == 11 and mobile_number.startswith('09') and mobile_number.isdigit():\n",
        "    print('✅Valid mobile number')\n",
        "else:\n",
        "    print('❌Invalid mobile number')"
      ],
      "metadata": {
        "id": "FNT6zrkXiIpq"
      },
      "execution_count": null,
      "outputs": []
    },
    {
      "cell_type": "markdown",
      "source": [
        "# **RegEX in python:**"
      ],
      "metadata": {
        "id": "dRDeCasJT_VR"
      }
    },
    {
      "cell_type": "markdown",
      "source": [
        "findall()"
      ],
      "metadata": {
        "id": "YdAr7rNvanr7"
      }
    },
    {
      "cell_type": "code",
      "source": [
        "import re\n",
        "a = 'Python is a object oriented lang.Python is a nice lan!'\n",
        "re.findall('th', a)"
      ],
      "metadata": {
        "colab": {
          "base_uri": "https://localhost:8080/"
        },
        "id": "MOW4wBANph0C",
        "outputId": "f7281922-beea-440e-ebdb-c52bf9ef6bf4"
      },
      "execution_count": null,
      "outputs": [
        {
          "output_type": "execute_result",
          "data": {
            "text/plain": [
              "['th', 'th']"
            ]
          },
          "metadata": {},
          "execution_count": 2
        }
      ]
    },
    {
      "cell_type": "code",
      "source": [
        "x = re.search(\"e[a-z]\", \"regex college\")\n",
        "print(type(x))\n",
        "print(x)\n",
        "#<class '_sre.SRE_Match'>\n",
        "print(x.string)\n",
        "#'regex college'\n",
        "print(x.span())\n",
        "print(x.group())\n"
      ],
      "metadata": {
        "colab": {
          "base_uri": "https://localhost:8080/"
        },
        "id": "UfQCzhC0YYll",
        "outputId": "56695c87-106f-4cac-ea15-a1725494295c"
      },
      "execution_count": null,
      "outputs": [
        {
          "output_type": "stream",
          "name": "stdout",
          "text": [
            "<class 're.Match'>\n",
            "<re.Match object; span=(1, 3), match='eg'>\n",
            "regex college\n",
            "(1, 3)\n",
            "eg\n"
          ]
        }
      ]
    },
    {
      "cell_type": "markdown",
      "source": [
        "split() func:"
      ],
      "metadata": {
        "id": "jTolE5Luagj5"
      }
    },
    {
      "cell_type": "code",
      "source": [
        "import re\n",
        "s = 'Hi Baran! how are you today?'\n",
        "re.split('a',s)"
      ],
      "metadata": {
        "colab": {
          "base_uri": "https://localhost:8080/"
        },
        "id": "W7TwzVd2Zial",
        "outputId": "db56670a-0c2e-4b6d-c6ae-7a608373d325"
      },
      "execution_count": null,
      "outputs": [
        {
          "output_type": "execute_result",
          "data": {
            "text/plain": [
              "['Hi B', 'r', 'n! how ', 're you tod', 'y?']"
            ]
          },
          "metadata": {},
          "execution_count": 7
        }
      ]
    },
    {
      "cell_type": "code",
      "source": [
        "print(re.split('a', 'salam'))\n",
        "print(re.split('[0-9]+', 'you92398can820split729with26numbers'))\n",
        "print(re.split('[a-z]+', '2093ab20a120dk'))"
      ],
      "metadata": {
        "colab": {
          "base_uri": "https://localhost:8080/"
        },
        "id": "eHihUfkzaUh2",
        "outputId": "9dfb8c6c-d29d-4678-faa5-2d33b781856b"
      },
      "execution_count": null,
      "outputs": [
        {
          "output_type": "stream",
          "name": "stdout",
          "text": [
            "['s', 'l', 'm']\n",
            "['you', 'can', 'split', 'with', 'numbers']\n",
            "['2093', '20', '120', '']\n"
          ]
        }
      ]
    },
    {
      "cell_type": "markdown",
      "source": [
        "sub() func:"
      ],
      "metadata": {
        "id": "NGnkkn5YbbgN"
      }
    },
    {
      "cell_type": "code",
      "source": [
        "print(re.sub('l', 'salam', 'hello'))\n",
        "\n",
        "print(re.sub('[0-9]', '_digit_', '12ab1'))\n",
        "\n",
        "print(re.sub('[0-9]+', '_num_', '12ab1129h'))\n",
        "\n"
      ],
      "metadata": {
        "colab": {
          "base_uri": "https://localhost:8080/"
        },
        "id": "3lpZnxWJbeY6",
        "outputId": "ddb76a2f-e3c5-4e79-e0b7-eb21479fc0fb"
      },
      "execution_count": null,
      "outputs": [
        {
          "output_type": "stream",
          "name": "stdout",
          "text": [
            "hesalamsalamo\n",
            "_digit__digit_ab_digit_\n",
            "_num_ab_num_h\n"
          ]
        }
      ]
    },
    {
      "cell_type": "markdown",
      "source": [
        "## Besanj: check of validation of email address and phone number"
      ],
      "metadata": {
        "id": "hg5-YkWEcxw4"
      }
    },
    {
      "cell_type": "code",
      "source": [
        "import re\n",
        "\n",
        "\n",
        "def validate_email(email):\n",
        "    return bool(re.match(r\"^[a-zA-Z0-9\\.\\_]+@[a-zA-Z0-9]+\\.[a-zA-Z]{3}$\", email))\n",
        "\n",
        "\n",
        "def validate_phone(number):\n",
        "    return bool(re.match(r\"^(0|\\+98|0098)9[0-9]{9}$\", number))"
      ],
      "metadata": {
        "id": "54ol9mlHAjos"
      },
      "execution_count": null,
      "outputs": []
    },
    {
      "cell_type": "markdown",
      "source": [
        "or this my solution:\n",
        "email Validate"
      ],
      "metadata": {
        "id": "YT8drkZN-JT_"
      }
    },
    {
      "cell_type": "code",
      "source": [
        "import re\n",
        "\n",
        "def validate_email(email: str) -> bool:\n",
        "    if re.match(r'^[a-zA-Z1-9\\.\\_]+@[a-zA-Z1-9]+\\.[a-zA-Z]{3}$',email):\n",
        "        return True\n",
        "    else:\n",
        "        return False\n",
        "email = 'rbagheri85@gmail.com'\n",
        "validate_email(email)\n",
        "\n"
      ],
      "metadata": {
        "colab": {
          "base_uri": "https://localhost:8080/"
        },
        "id": "ibsVvLV_8zXi",
        "outputId": "7e1bfabc-8f96-4644-c06b-748562396c9a"
      },
      "execution_count": null,
      "outputs": [
        {
          "output_type": "execute_result",
          "data": {
            "text/plain": [
              "True"
            ]
          },
          "metadata": {},
          "execution_count": 51
        }
      ]
    },
    {
      "cell_type": "markdown",
      "source": [
        "phone validate"
      ],
      "metadata": {
        "id": "9ZB43LDc-Ktf"
      }
    },
    {
      "cell_type": "code",
      "source": [
        "import re\n",
        "\n",
        "def validate_phone(number: str) -> bool:\n",
        "  if re.match(r'^09[0-9]{9}$', number):\n",
        "    return True\n",
        "  elif re.match(r'^00989[0-9]{9}$', number):\n",
        "    return True\n",
        "  elif re.match(r'^\\+989[0-9]{9}$', number):\n",
        "    return True\n",
        "  else:\n",
        "    return False\n",
        "number = '+989126982466'\n",
        "validate_phone(number)"
      ],
      "metadata": {
        "colab": {
          "base_uri": "https://localhost:8080/"
        },
        "id": "pvrL5BKm98Pp",
        "outputId": "9ffb1b3d-0927-45bc-ced7-c66a5d04ac01"
      },
      "execution_count": null,
      "outputs": [
        {
          "output_type": "execute_result",
          "data": {
            "text/plain": [
              "True"
            ]
          },
          "metadata": {},
          "execution_count": 53
        }
      ]
    },
    {
      "cell_type": "markdown",
      "source": [
        "merge 2 function:"
      ],
      "metadata": {
        "id": "3i6XSRd2AGU3"
      }
    },
    {
      "cell_type": "code",
      "source": [
        "import re\n",
        "\n",
        "def validate_email(email: str) -> bool:\n",
        "    if re.match(r'^[a-zA-Z1-9\\.\\_]+@[a-zA-Z1-9]+\\.[a-zA-Z]{3}$',email):\n",
        "        return True\n",
        "    else:\n",
        "        return False\n",
        "email = 'rbagheri85@gmail.com'\n",
        "validate_email(email)\n",
        "\n",
        "def validate_phone(number: str) -> bool:\n",
        "  if re.match(r'^09[0-9]{9}$', number):\n",
        "    return True\n",
        "  elif re.match(r'^00989[0-9]{9}$', number):\n",
        "    return True\n",
        "  elif re.match(r'^\\+989[0-9]{9}$', number):\n",
        "    return True\n",
        "  else:\n",
        "    return False\n",
        "number = '09126982466'\n",
        "validate_phone(number)"
      ],
      "metadata": {
        "id": "-lN3OyniAFEt"
      },
      "execution_count": null,
      "outputs": []
    },
    {
      "cell_type": "markdown",
      "source": [
        "or this solution!!!:"
      ],
      "metadata": {
        "id": "Bej5zNDuCd5i"
      }
    },
    {
      "cell_type": "code",
      "source": [
        "import re\n",
        "\n",
        "\n",
        "def validate_email(email: str) -> bool:\n",
        "    username_domain = re.split('@',email)\n",
        "    if(len(username_domain) != 2):\n",
        "        return False\n",
        "    else:\n",
        "        username,domain = username_domain[0], username_domain[1]\n",
        "    domain_tld = domain.split(\".\")\n",
        "    if(len(domain_tld) != 2):\n",
        "        return False\n",
        "    else:\n",
        "        domain, tld = domain_tld[0], domain_tld[1]\n",
        "    is_ok = (len(re.findall(\"[^a-z,^A-Z,^0-9,^\\.,^_]\", username)) == 0)\n",
        "    if(is_ok):\n",
        "        is_ok = (len(re.findall(\"[^a-z,^A-Z,^0-9]\", domain)) == 0)\n",
        "        if(is_ok):\n",
        "            is_ok = (len(re.findall(\"[^a-z,^A-Z]\", tld)) == 0) and len(tld) == 3\n",
        "            return is_ok\n",
        "        else:\n",
        "            return False\n",
        "    else:\n",
        "        return False\n",
        "    pass\n",
        "\n",
        "\n",
        "def validate_phone(number: str) -> bool:\n",
        "    is_ok = re.search(\"^09\",number) != None\n",
        "    is_ok2 = (len(re.findall(\"[^0-9]\", number)) == 0)\n",
        "    is_ok3 = len(number) == 11\n",
        "    if(is_ok and is_ok2 and is_ok3):\n",
        "        return True\n",
        "    is_ok = re.search(\"^\\+989\",number) != None\n",
        "    is_ok2 = (len(re.findall(\"[^0-9,^\\+]\", number)) == 0)\n",
        "    is_ok3 = len(number) == 13\n",
        "    if(is_ok and is_ok2 and is_ok3):\n",
        "        return True\n",
        "    is_ok = re.search(\"^00989\",number) != None\n",
        "    is_ok2 = (len(re.findall(\"[^0-9]\", number)) == 0)\n",
        "    is_ok3 = len(number) == 14\n",
        "    if(is_ok and is_ok2 and is_ok3):\n",
        "        return True\n",
        "    else:\n",
        "        return False\n",
        "    pass\n",
        "\n",
        "print(validate_email(\"invalid@invalid\"))"
      ],
      "metadata": {
        "id": "OsLMXrWR95EI"
      },
      "execution_count": null,
      "outputs": []
    },
    {
      "cell_type": "code",
      "source": [
        "import re\n",
        "\n",
        "\n",
        "def validate_email(email: str) -> bool:\n",
        "    if re.match(\"^[a-zA-Z0-9._]+@[a-zA-Z0-9]+\\.[a-zA-Z]{3}$\", email):\n",
        "        return True\n",
        "    else:\n",
        "        return False\n",
        "\n",
        "\n",
        "def validate_phone(number: str) -> bool:\n",
        "    if re.match(\"^(09|\\+989|0{2}989)\\d{9}$\", number):\n",
        "        return True\n",
        "    else:\n",
        "        return False"
      ],
      "metadata": {
        "id": "eP6UiC0NChwg"
      },
      "execution_count": null,
      "outputs": []
    },
    {
      "cell_type": "code",
      "source": [
        "import re\n",
        "\n",
        "\n",
        "def validate_email(email: str) -> bool:\n",
        "    pattern = r'^[a-zA-Z0-9_.]+@[a-zA-Z0-9]+\\.[a-zA-Z]{2,3}$'\n",
        "    return (re.match(pattern, email))\n",
        "\n",
        "def validate_phone(number: str) -> bool:\n",
        "    pattern = r'^(09|(\\+989)|(00989))\\d{9}$'\n",
        "    return bool(re.match(pattern, number))\n",
        "\n"
      ],
      "metadata": {
        "id": "7zuwe2jDCuUQ"
      },
      "execution_count": null,
      "outputs": []
    },
    {
      "cell_type": "code",
      "source": [
        "myList = [\"amir\", \"ali\", \"amir\", \"ali\"]\n",
        "myList.index('ali')\n",
        "myList.index('ali', 2, 4)\n",
        "\n"
      ],
      "metadata": {
        "id": "JI6cHu3zyGAP",
        "colab": {
          "base_uri": "https://localhost:8080/"
        },
        "outputId": "c48aad9f-ba54-47de-ed04-83e3b5794f10"
      },
      "execution_count": null,
      "outputs": [
        {
          "output_type": "execute_result",
          "data": {
            "text/plain": [
              "3"
            ]
          },
          "metadata": {},
          "execution_count": 17
        }
      ]
    },
    {
      "cell_type": "code",
      "source": [
        "myList.index('ali', 0,1)"
      ],
      "metadata": {
        "id": "1AEohVkTyYdh",
        "colab": {
          "base_uri": "https://localhost:8080/"
        },
        "outputId": "cae928c1-5c22-44f4-f9f8-5bda5edf3977"
      },
      "execution_count": null,
      "outputs": [
        {
          "output_type": "execute_result",
          "data": {
            "text/plain": [
              "1"
            ]
          },
          "metadata": {},
          "execution_count": 24
        }
      ]
    },
    {
      "cell_type": "code",
      "source": [
        ">>> myList = [\"amir\", \"ali\", \"amir\", \"ali\"]\n",
        ">>> myList.count('ali')\n",
        "2\n",
        ">>> myList.count('mohamadreza')\n",
        "0"
      ],
      "metadata": {
        "id": "2X3UR-l1yazy"
      },
      "execution_count": null,
      "outputs": []
    },
    {
      "cell_type": "code",
      "source": [
        ">>> companies = ['apple', 'samsung', 'xiaomi', 'sony', 'nokia']\n",
        ">>> companies\n",
        "['apple', 'samsung', 'xiaomi', 'sony', 'nokia']\n",
        ">>> companies.sort()\n",
        ">>> companies\n",
        "['apple', 'nokia', 'samsung', 'sony', 'xiaomi']\n",
        ">>> def getLength(a):\n",
        "...     return len(a)\n",
        "...\n",
        ">>> companies.sort(key=getLength)\n",
        ">>> companies\n",
        "['sony', 'apple', 'nokia', 'xiaomi', 'samsung']"
      ],
      "metadata": {
        "id": "x_CjA-92yn6F"
      },
      "execution_count": null,
      "outputs": []
    },
    {
      "cell_type": "code",
      "source": [
        ">>> numbers = [1, 2, 3, 4, 5]\n",
        ">>> numbers.reverse()\n",
        ">>> numbers\n",
        "[5, 4, 3, 2, 1]"
      ],
      "metadata": {
        "id": "rDLutKjczAHc"
      },
      "execution_count": null,
      "outputs": []
    },
    {
      "cell_type": "code",
      "source": [
        ">>> names = ['ali', 'mohamadreza', 'mahdi']\n",
        ">>> ' '.join(names)\n",
        "'ali mohamadreza mahdi'\n",
        ">>> '/'.join(['home', 'lib', 'python.py'])\n",
        "'home/lib/python.py'"
      ],
      "metadata": {
        "id": "9b6CCKNtz78V"
      },
      "execution_count": null,
      "outputs": []
    },
    {
      "cell_type": "code",
      "source": [
        ">>> numbers = [1, 2, 3, 4, 5]\n",
        ">>> numbers.copy()\n",
        "[1, 2, 3, 4, 5]\n",
        ">>> numbers[:]\n",
        "[1, 2, 3, 4, 5]"
      ],
      "metadata": {
        "id": "Fb6kGYAn0FDa"
      },
      "execution_count": null,
      "outputs": []
    },
    {
      "cell_type": "markdown",
      "source": [
        "Queiz: Print Reverse when enter 0:"
      ],
      "metadata": {
        "id": "jcBq2rls4vv2"
      }
    },
    {
      "cell_type": "code",
      "source": [
        "s = []\n",
        "n = int(input())\n",
        "while n != 0:\n",
        "    s.append(n)\n",
        "    n = int(input())\n",
        "s.reverse()\n",
        "#print(*s)\n",
        "for i in s:\n",
        "    print (i)"
      ],
      "metadata": {
        "id": "Aq3JR0FE40ok"
      },
      "execution_count": null,
      "outputs": []
    },
    {
      "cell_type": "code",
      "source": [
        "mylist = []\n",
        "while True :\n",
        "    n = int(input())\n",
        "    if n == 0 :\n",
        "        break\n",
        "    mylist.append(n)\n",
        "mylist.reverse()\n",
        "for i in mylist :\n",
        "    print(i)"
      ],
      "metadata": {
        "id": "OsG4cnUr5M5b"
      },
      "execution_count": null,
      "outputs": []
    },
    {
      "cell_type": "code",
      "source": [
        ">>> queue = [\"ali\", \"mohammad\"]\n",
        ">>> queue.append(\"reza\") # similar to push\n",
        ">>> queue.append(\"amir\")\n",
        ">>> queue\n",
        "['ali', 'mohammad', 'reza', 'amir']\n",
        ">>> queue[0] # similar to top\n",
        "'ali'\n",
        ">>> queue.pop(0)\n",
        "'ali'\n",
        ">>> queue\n",
        "['mohammad', 'reza', 'amir']"
      ],
      "metadata": {
        "id": "kXFml1tJ7QXp"
      },
      "execution_count": null,
      "outputs": []
    },
    {
      "cell_type": "markdown",
      "source": [
        "# enumerate() function:"
      ],
      "metadata": {
        "id": "n_h66pIY9MGz"
      }
    },
    {
      "cell_type": "code",
      "source": [
        "x = ['apple', 'banana', 'cherry']\n",
        "y = enumerate(x)\n",
        "\n",
        "print(list(y))"
      ],
      "metadata": {
        "colab": {
          "base_uri": "https://localhost:8080/"
        },
        "id": "grj6kNFX9QoH",
        "outputId": "a66a4351-694e-48bd-8293-cf26f183a0c2"
      },
      "execution_count": null,
      "outputs": [
        {
          "output_type": "stream",
          "name": "stdout",
          "text": [
            "[(0, 'apple'), (1, 'banana'), (2, 'cherry')]\n"
          ]
        }
      ]
    },
    {
      "cell_type": "code",
      "source": [
        "names = ['mohammad', 'reza', 'amir']\n",
        "for i, j in enumerate(names):\n",
        "    print(i,j)"
      ],
      "metadata": {
        "colab": {
          "base_uri": "https://localhost:8080/"
        },
        "id": "EdrgvP6Y9u7G",
        "outputId": "a880ab7b-48d4-47a4-e214-b2570d144585"
      },
      "execution_count": null,
      "outputs": [
        {
          "output_type": "stream",
          "name": "stdout",
          "text": [
            "0 mohammad\n",
            "1 reza\n",
            "2 amir\n"
          ]
        }
      ]
    },
    {
      "cell_type": "code",
      "source": [
        ">>> myList = [0, 1, 2, 3]\n",
        ">>> for i, it in enumerate(myList):\n",
        "...     print(\"the {0}th object in myList is {1}!\".format(i+1, it))\n",
        "...\n",
        "the 1th object in myList is 0!\n",
        "the 2th object in myList is 1!\n",
        "the 3th object in myList is 2!\n",
        "the 4th object in myList is 3!"
      ],
      "metadata": {
        "id": "FvS-5F5V709u"
      },
      "execution_count": null,
      "outputs": []
    },
    {
      "cell_type": "code",
      "source": [
        "names = ['mohammad', 'reza', 'amir']\n",
        "for i, it in enumerate(names):\n",
        "     print(\"the {0}th object in myList is {1} .\".format(i+1, it))"
      ],
      "metadata": {
        "id": "w9IGqUgw_FPz"
      },
      "execution_count": null,
      "outputs": []
    },
    {
      "cell_type": "markdown",
      "source": [
        "# zip() function:"
      ],
      "metadata": {
        "id": "eP_scLBf_fk_"
      }
    },
    {
      "cell_type": "code",
      "source": [
        "listA = [1, 2, 3, 4]\n",
        "listB = ['a', 'b', 'c', 'd']\n",
        "listC = ['I', 'II', 'III', 'IV']\n",
        "for a, b, c in zip(listA,listB,listC):\n",
        "  print(a,b,c)"
      ],
      "metadata": {
        "colab": {
          "base_uri": "https://localhost:8080/"
        },
        "id": "JqvlH1EK_qzZ",
        "outputId": "53a3f9ef-8e6a-4277-818a-b4d21152a2aa"
      },
      "execution_count": null,
      "outputs": [
        {
          "output_type": "stream",
          "name": "stdout",
          "text": [
            "1 a I\n",
            "2 b II\n",
            "3 c III\n",
            "4 d IV\n"
          ]
        }
      ]
    },
    {
      "cell_type": "code",
      "source": [
        ">>> listA = [1, 2, 3, 4]\n",
        ">>> listB = ['a', 'b', 'c', 'd']\n",
        ">>> listC = ['I', 'II', 'III', 'IV']\n",
        ">>> for a, b, c in zip(listA, listB, listC):\n",
        "...     print(\"{0}th alphabet or {1} in greece is {2}\".format(a, c, b))\n",
        "...\n",
        "1th alphabet or I in greece is a\n",
        "2th alphabet or II in greece is b\n",
        "3th alphabet or III in greece is c\n",
        "4th alphabet or IV in greece is d"
      ],
      "metadata": {
        "id": "AFZ1biuu_i8X"
      },
      "execution_count": null,
      "outputs": []
    },
    {
      "cell_type": "markdown",
      "source": [
        "# sort() and sorted() func"
      ],
      "metadata": {
        "id": "WwkfiSKHBALy"
      }
    },
    {
      "cell_type": "code",
      "source": [
        "ls = [2, 4, 3, 1]\n",
        "ls.sort()\n",
        "ls\n"
      ],
      "metadata": {
        "colab": {
          "base_uri": "https://localhost:8080/"
        },
        "id": "LJXd6_YFBEsG",
        "outputId": "8b458464-d79e-4f2b-d5eb-9b5530e682b1"
      },
      "execution_count": null,
      "outputs": [
        {
          "output_type": "execute_result",
          "data": {
            "text/plain": [
              "[1, 2, 3, 4]"
            ]
          },
          "metadata": {},
          "execution_count": 9
        }
      ]
    },
    {
      "cell_type": "code",
      "source": [
        "ls = [2, 4, 3, 1]\n",
        "f = sorted(ls)\n",
        "f\n",
        "\n"
      ],
      "metadata": {
        "id": "N9hPguRIBWLq",
        "colab": {
          "base_uri": "https://localhost:8080/"
        },
        "outputId": "7c052222-9423-4695-d087-cb7858214579"
      },
      "execution_count": null,
      "outputs": [
        {
          "output_type": "execute_result",
          "data": {
            "text/plain": [
              "[1, 2, 3, 4]"
            ]
          },
          "metadata": {},
          "execution_count": 26
        }
      ]
    },
    {
      "cell_type": "markdown",
      "source": [
        "# reversed() function:"
      ],
      "metadata": {
        "id": "3w-uO7WHBnMy"
      }
    },
    {
      "cell_type": "code",
      "source": [
        "ls = ['a', 'bcd', 'salam', 'hello']\n",
        "\n",
        "\n",
        "for i in reversed(ls):\n",
        "   print(i, end=' ')\n"
      ],
      "metadata": {
        "colab": {
          "base_uri": "https://localhost:8080/"
        },
        "id": "8FwWwoIDBqPb",
        "outputId": "e8b7aaad-6786-4b99-ed7b-55e6d1a14de0"
      },
      "execution_count": null,
      "outputs": [
        {
          "output_type": "stream",
          "name": "stdout",
          "text": [
            "hello salam bcd a "
          ]
        }
      ]
    },
    {
      "cell_type": "code",
      "source": [
        "ls = ['a', 'bcd', 'salam', 'hello']\n",
        "reversed(ls)"
      ],
      "metadata": {
        "colab": {
          "base_uri": "https://localhost:8080/"
        },
        "id": "EgU9yRD5CMLz",
        "outputId": "43417205-3b3b-417d-90b9-21313593f222"
      },
      "execution_count": null,
      "outputs": [
        {
          "output_type": "execute_result",
          "data": {
            "text/plain": [
              "<list_reverseiterator at 0x7f9b8d77f310>"
            ]
          },
          "metadata": {},
          "execution_count": 15
        }
      ]
    },
    {
      "cell_type": "markdown",
      "source": [
        "# filter() function:"
      ],
      "metadata": {
        "id": "4qHg5YdrC8yG"
      }
    },
    {
      "cell_type": "code",
      "source": [
        "def f(x):\n",
        "  return True if x%2 == 0 else False\n",
        "\n",
        "lst1 = [1, 2, 4, 3, 6, 4]\n",
        "#filter(f, ls)\n",
        "#<filter object at 0x00B77E50>\n",
        "for x in filter(f, lst1):\n",
        "     print(x, end=' ')\n",
        "print()\n",
        "print('ls: ',lst1)"
      ],
      "metadata": {
        "colab": {
          "base_uri": "https://localhost:8080/"
        },
        "id": "sfJm9OuoDBge",
        "outputId": "52f0bf04-96f0-4c9f-9402-81f3e41f4016"
      },
      "execution_count": null,
      "outputs": [
        {
          "output_type": "stream",
          "name": "stdout",
          "text": [
            "2 4 6 4 \n",
            "ls:  [1, 2, 4, 3, 6, 4]\n"
          ]
        }
      ]
    },
    {
      "cell_type": "markdown",
      "source": [
        "# map() function:"
      ],
      "metadata": {
        "id": "XRNrtkl6EmQa"
      }
    },
    {
      "cell_type": "code",
      "source": [
        ">>> def f(x):\n",
        "...    return int(x)\n",
        "...\n",
        ">>> ls = [2, '4', False, 3.14]\n",
        ">>> map(f, ls)\n",
        "<map object at 0x00B77F90>\n",
        ">>> for x in map(f, ls):\n",
        "...     print(x, end=' ')\n",
        "...\n",
        "2 4 0 3\n",
        ">>> for x in map(int, ls):\n",
        "...     print(x, end=' ')\n",
        "...\n",
        "2 4 0 3\n",
        "2 4 6 4"
      ],
      "metadata": {
        "id": "NTdGhem9EpUa"
      },
      "execution_count": null,
      "outputs": []
    },
    {
      "cell_type": "code",
      "source": [
        "def f(x):\n",
        "    return int(x)\n",
        "ls = [2, '4', False, 3.14]\n",
        "\n",
        "for x in map(f, ls):\n",
        "     print(x, end=' ')\n",
        "print()\n",
        "print('ls: ',ls)"
      ],
      "metadata": {
        "colab": {
          "base_uri": "https://localhost:8080/"
        },
        "id": "gf36XAUmFbcE",
        "outputId": "dfb4d30c-773d-413a-eaa1-e83e7e75ee63"
      },
      "execution_count": null,
      "outputs": [
        {
          "output_type": "stream",
          "name": "stdout",
          "text": [
            "2 4 0 3 \n",
            "ls:  [2, '4', False, 3.14]\n"
          ]
        }
      ]
    },
    {
      "cell_type": "code",
      "source": [
        "ls = [2, '4', False, 3.14]\n",
        "for i in map(int,ls):\n",
        "  print(i,end= ' ')"
      ],
      "metadata": {
        "colab": {
          "base_uri": "https://localhost:8080/"
        },
        "id": "4oK9d9XLGHzw",
        "outputId": "77aebb9b-5b1e-4626-afa7-cc03eb275ed2"
      },
      "execution_count": null,
      "outputs": [
        {
          "output_type": "stream",
          "name": "stdout",
          "text": [
            "2 4 0 3 "
          ]
        }
      ]
    },
    {
      "cell_type": "code",
      "source": [
        ">>> number = map(int, input().split())\n",
        "1 2 3 4 5\n",
        ">>> sum(number)\n",
        "15"
      ],
      "metadata": {
        "id": "a55M28KZGmbf"
      },
      "execution_count": null,
      "outputs": []
    },
    {
      "cell_type": "markdown",
      "source": [
        "sum() function:\n",
        "# New Section"
      ],
      "metadata": {
        "id": "dR-Beja7GuSA"
      }
    },
    {
      "cell_type": "code",
      "source": [
        ">>> ls = [1, 2, 3, 4]\n",
        ">>> sum(ls)\n",
        "10\n",
        ">>> ls = ['a', 'b', 'c', 'd']\n",
        ">>> sum(ls)\n",
        "Traceback (most recent call last):\n",
        "  File \"<stdin>\", line 1, in <module>\n",
        "TypeError: unsupported operand type(s) for +: 'int' and 'str'"
      ],
      "metadata": {
        "id": "mRh4nGlzGyIW"
      },
      "execution_count": null,
      "outputs": []
    },
    {
      "cell_type": "markdown",
      "source": [
        "Betayp!!(type kon!)"
      ],
      "metadata": {
        "id": "miYkXiek9VeQ"
      }
    },
    {
      "cell_type": "code",
      "source": [
        "inp = input()\n",
        "outp = []\n",
        "for i in inp:\n",
        "\tif i == '=':\n",
        "\t\tif len(outp) != 0:\n",
        "\t\t\toutp.pop()\n",
        "\telse:\n",
        "\t\toutp.append(i)\n",
        "print(outp)\n",
        "ans = \"\"\n",
        "for i in outp:\n",
        "\tans += i\n",
        "print(ans)"
      ],
      "metadata": {
        "colab": {
          "base_uri": "https://localhost:8080/"
        },
        "id": "bJORyNQHgMQt",
        "outputId": "f4ba9354-69e9-4688-c84e-12f4e411f779"
      },
      "execution_count": null,
      "outputs": [
        {
          "output_type": "stream",
          "name": "stdout",
          "text": [
            "====testtwoo===wo\n",
            "['t', 'e', 's', 't', 't', 'w', 'o']\n",
            "testtwo\n"
          ]
        }
      ]
    },
    {
      "cell_type": "code",
      "source": [
        "word = input()\n",
        "\n",
        "while True:\n",
        "    equal = word.find('=')\n",
        "    if equal == -1:\n",
        "        break\n",
        "    temp = list(map(str,word))\n",
        "    if equal != 0:\n",
        "        temp.pop(equal)\n",
        "        temp.pop(equal-1)\n",
        "    else:\n",
        "        temp.pop(equal)\n",
        "    word = \"\".join(temp)\n",
        "\n",
        "print(word)"
      ],
      "metadata": {
        "id": "HTuCNb1KFmoF"
      },
      "execution_count": null,
      "outputs": []
    },
    {
      "cell_type": "code",
      "source": [
        "string = input().strip('=')\n",
        "\n",
        "removed = []\n",
        "for i in range(len(string)):\n",
        "    if string[i] == '=':\n",
        "        if i != 0 and len(removed) != 0:\n",
        "           removed.pop()\n",
        "    else:\n",
        "       removed.append(string[i])\n",
        "\n",
        "s = \"\"\n",
        "for ch in removed:\n",
        "    s += ch\n",
        "\n",
        "print(s)"
      ],
      "metadata": {
        "id": "CHh_GF9CF2tZ"
      },
      "execution_count": null,
      "outputs": []
    },
    {
      "cell_type": "code",
      "source": [
        "l = input()\n",
        "stack = []\n",
        "for elem in l:\n",
        "    if elem != '=':\n",
        "        stack.append(elem)\n",
        "    elif(len(stack) != 0):\n",
        "        stack.pop()\n",
        "for elem in stack:\n",
        "    print(elem, end = \"\")"
      ],
      "metadata": {
        "id": "Zn2YUKpSF9Zh"
      },
      "execution_count": null,
      "outputs": []
    },
    {
      "cell_type": "code",
      "source": [
        "import re\n",
        "\n",
        "sentence = input()\n",
        "stack = []\n",
        "ans = ''\n",
        "for i in range (len(sentence)):\n",
        "    stack.append(sentence[i])\n",
        "    if len(stack)==1 and sentence[i]== '=':\n",
        "        stack.pop()\n",
        "    if len(stack)>1 and sentence[i]== '=':\n",
        "        stack.pop()\n",
        "        stack.pop()\n",
        "\n",
        "for item in stack :\n",
        "    ans += item\n",
        "print(ans)"
      ],
      "metadata": {
        "id": "pXdcv7JiGdsn"
      },
      "execution_count": null,
      "outputs": []
    },
    {
      "cell_type": "markdown",
      "source": [
        "Bomb **Bazi**"
      ],
      "metadata": {
        "id": "f8mKFzE9xgWY"
      }
    },
    {
      "cell_type": "code",
      "source": [
        "n, m = map(int,input().split())\n",
        "k = int(input())\n",
        "matr = []\n",
        "for x in range(n):\n",
        "   matr.append([])\n",
        "   for y in range(m):\n",
        "     matr[x].append(0)\n",
        "\n",
        "\n",
        "for o in range(k):\n",
        "    a, b = map(int,input().split()) # 1 1\n",
        "    a = a -1\n",
        "    b = b -1\n",
        "    matr[a][b] = '*'\n",
        "\n",
        "    for h in range(-1,2):\n",
        "        for p in range(-1,2):\n",
        "           if (h != 0 or p != 0)  and ((a+h) in range(0,n) and (b+p) in range(0,m)) and matr[a+h][b+p] != '*':\n",
        "            matr[a+h][b+p] += 1\n",
        "for i in range(n):\n",
        "    for j in range(m):\n",
        "        print(matr[i][j],end = ' ')\n",
        "    print()"
      ],
      "metadata": {
        "id": "mqdj13JtxmE3"
      },
      "execution_count": null,
      "outputs": []
    },
    {
      "cell_type": "code",
      "source": [
        "n, m = map(int, input().split())\n",
        "base = [[0] * (m+2) for i in range(n+2)]\n",
        "k = int(input())\n",
        "for i in range(k):\n",
        "\tx, y = map(int, input().split())\n",
        "\tbase[x][y] = '*'\n",
        "\n",
        "def check(x ,y):\n",
        "    pos = [-1, 0, +1]\n",
        "    if base[x][y] != '*':\n",
        "        for i in pos:\n",
        "            for j in pos:\n",
        "                if i!=0 or j!=0:\n",
        "                    if base[x+i][y+j] == '*':\n",
        "                        base[x][y] += 1\n",
        "\n",
        "\n",
        "for i in range(1,n+1):\n",
        "\tfor j in range(1,m+1):\n",
        "\t\tcheck(i,j)\n",
        "for i in range(1,n+1):\n",
        "\tfor j in range(1,m+1):\n",
        "\t\tprint(base[i][j], end=' ')\n",
        "\tprint('')"
      ],
      "metadata": {
        "id": "uOJXOUydxvLE"
      },
      "execution_count": null,
      "outputs": []
    },
    {
      "cell_type": "code",
      "source": [
        "def check_pos(X,Y):\n",
        "    global n , m\n",
        "    pos = [ -1 , 0 , 1 ]\n",
        "    if maps[X][Y] != '*' :\n",
        "        for j in pos :\n",
        "            for l in pos :\n",
        "                if j != 0 or l != 0  :\n",
        "                    if (X+j>= 0 and X+j <n) and (Y+l >=0 and Y+l <m):\n",
        "                        if maps[X+j][Y+l] == '*' :\n",
        "                            maps[X][Y] += 1\n",
        "    return maps\n",
        "\n",
        "\n",
        "\n",
        "n, m = map(int, input().split())\n",
        "k = int(input())\n",
        "maps = []\n",
        "for x in range(n):\n",
        "    maps.append([])\n",
        "    for y in range(m):\n",
        "         maps[x].append(0)\n",
        "for i in range (k) :\n",
        "    a, b = map(int, input().split())\n",
        "    (x,y) = ((a-1),(b-1))\n",
        "    maps[x][y] = '*'\n",
        "for x in range (n):\n",
        "    for y in range(m):\n",
        "        check_pos(x,y)\n",
        "for item in maps :\n",
        "    print (*item , end = ' ')\n",
        "    print()"
      ],
      "metadata": {
        "id": "8_P-RWm9x290"
      },
      "execution_count": null,
      "outputs": []
    },
    {
      "cell_type": "code",
      "source": [
        "def f(x):\n",
        "    return int(x) - 1\n",
        "\n",
        "m, n = list(map(int, input().split()))\n",
        "\n",
        "n_bomb = int(input())\n",
        "\n",
        "bomb_loc = []\n",
        "for i in range(n_bomb):\n",
        "    bomb_loc.append(list(map(f, input().split())))\n",
        "\n",
        "map_ = []\n",
        "\n",
        "for i in range(m):\n",
        "    map_.append([])\n",
        "    for j in range(n):\n",
        "        map_[i].append(0)\n",
        "\n",
        "\n",
        "pos_ = [[-1,-1], [-1,0], [-1,1], [0,-1], [0,1], [1,-1], [1,0], [1,1]]\n",
        "\n",
        "def vicinity_count(chart, i, j):\n",
        "    chart[i][j] = '*'\n",
        "    for [x,y] in pos_:\n",
        "        # print(i+x,j+y)\n",
        "        if i+x >= 0 and j+y>=0 and i+x<m and j+y<n:\n",
        "            if chart[i+x][j+y] != '*':\n",
        "                chart[i+x][j+y] += 1\n",
        "    return chart\n",
        "\n",
        "def calc_chart(map_, bomb_loc):\n",
        "    for [i,j] in bomb_loc:\n",
        "        map_ = vicinity_count(map_, i, j)\n",
        "    return map_\n",
        "\n",
        "calc_chart(map_, bomb_loc)\n",
        "\n",
        "for i in range(m):\n",
        "    for j in range(n):\n",
        "        if j+1 == n:\n",
        "            print(map_[i][j])\n",
        "        else:\n",
        "            print(map_[i][j], end=' ')\n"
      ],
      "metadata": {
        "id": "yNh5PbPUyC0A"
      },
      "execution_count": null,
      "outputs": []
    },
    {
      "cell_type": "markdown",
      "source": [
        "List review:\n"
      ],
      "metadata": {
        "id": "XL2LaaIc4irU"
      }
    },
    {
      "cell_type": "code",
      "source": [
        "lst = [str(x)+y for x in [1,2] for y in ['A','B']]\n",
        "lst"
      ],
      "metadata": {
        "colab": {
          "base_uri": "https://localhost:8080/"
        },
        "id": "Ff-Tt_nZ4loY",
        "outputId": "954c12c8-fd2e-43a9-dfca-967266827497"
      },
      "execution_count": null,
      "outputs": [
        {
          "output_type": "execute_result",
          "data": {
            "text/plain": [
              "['1A', '1B', '2A', '2B']"
            ]
          },
          "metadata": {},
          "execution_count": 1
        }
      ]
    },
    {
      "cell_type": "code",
      "source": [
        ">[(x, y) for x in [1, 2, 3] for y in [1, 2, 3] if x != y]\n",
        "[(1, 2), (1, 3), (2, 1), (2, 3), (3, 1), (3, 2)]"
      ],
      "metadata": {
        "id": "nxL3caEa57Up"
      },
      "execution_count": null,
      "outputs": []
    },
    {
      "cell_type": "code",
      "source": [
        ">>> zeros = [[0 for c in range(m)] for r in range(n)]"
      ],
      "metadata": {
        "id": "8f1-5OLV6Y3A"
      },
      "execution_count": null,
      "outputs": []
    },
    {
      "cell_type": "code",
      "source": [
        ">>> a = ['ali', 'rafte', 'key', 'barmigarde?']\n",
        ">>> del a[0]\n",
        ">>> a\n",
        "['rafte', 'key', 'barmigarde?']\n",
        ">>> del a[0:2]\n",
        ">>> a\n",
        "['barmigarde?']\n",
        ">>> del a[:]\n",
        ">>> a\n",
        "[]"
      ],
      "metadata": {
        "id": "dnku0ieQ6qRd"
      },
      "execution_count": null,
      "outputs": []
    },
    {
      "cell_type": "code",
      "source": [
        ">>> name = \"salam\"\n",
        ">>> name\n",
        "'salam'\n",
        ">>> del name\n",
        ">>> name\n",
        "Traceback (most recent call last):\n",
        "File \"<stdin>\", line 1, in <module>\n",
        "NameError: name 'name' is not defined"
      ],
      "metadata": {
        "id": "o35MPt_X6w3v"
      },
      "execution_count": null,
      "outputs": []
    },
    {
      "cell_type": "code",
      "source": [
        ">>> ls = [0, 1, 2, 3, 4]\n",
        ">>> print(*ls)\n",
        "0 1 2 3 4"
      ],
      "metadata": {
        "id": "xbg4fxrf659y"
      },
      "execution_count": null,
      "outputs": []
    },
    {
      "cell_type": "markdown",
      "source": [
        "Asone Sakht:"
      ],
      "metadata": {
        "id": "uekjISdA7djG"
      }
    },
    {
      "cell_type": "code",
      "source": [
        "print(*sorted(set(list(it for i,it in enumerate(map(int,input().split())) if ((i+1) % 6 == 0 and it % 6 == 0)))))\n"
      ],
      "metadata": {
        "id": "pClcieah7gA0"
      },
      "execution_count": null,
      "outputs": []
    },
    {
      "cell_type": "markdown",
      "source": [
        "OR:"
      ],
      "metadata": {
        "id": "ZlMZ5F-uEXwQ"
      }
    },
    {
      "cell_type": "code",
      "source": [
        "print(*sorted(x for x in list(map(int, input().split()))[5::6] if x % 6 == 0))\n"
      ],
      "metadata": {
        "id": "FzN2dQHctElB"
      },
      "execution_count": null,
      "outputs": []
    },
    {
      "cell_type": "markdown",
      "source": [
        "# Review of tuple:"
      ],
      "metadata": {
        "id": "ctjntydxGw-w"
      }
    },
    {
      "cell_type": "code",
      "source": [
        ">>> t = (\"ali\", 123, 2.5)\n",
        ">>> t[0]\n",
        "'ali'\n",
        ">>> t[0:2]\n",
        "('ali', 123)\n",
        ">>> for it in t:\n",
        "...     print(it)\n",
        "...\n",
        "ali\n",
        "123\n",
        "2.5"
      ],
      "metadata": {
        "id": "E026E1KNG-Cv"
      },
      "execution_count": null,
      "outputs": []
    },
    {
      "cell_type": "code",
      "source": [
        ">>> t = \"ali\", 123, 2.5\n",
        ">>> t\n",
        "('ali', 123, 2.5)\n",
        ">>> type(t)\n",
        "<class 'tuple'>"
      ],
      "metadata": {
        "id": "QZsy5CDjHFUu"
      },
      "execution_count": null,
      "outputs": []
    },
    {
      "cell_type": "code",
      "source": [
        ">>> a, b, c = 10, 20, 30\n",
        ">>> a\n",
        "10\n",
        ">>> b\n",
        "20\n",
        ">>> c\n",
        "30\n",
        ">>> a, b = b, a\n",
        ">>> a\n",
        "20\n",
        ">>> b\n",
        "10"
      ],
      "metadata": {
        "id": "wOy7T3XUHJj1"
      },
      "execution_count": null,
      "outputs": []
    },
    {
      "cell_type": "code",
      "source": [
        ">>> t = ()\n",
        ">>> len(t)\n",
        "0\n",
        ">>> type(t)\n",
        "<class 'tuple'>\n",
        ">>> t = (1)\n",
        ">>> type(t)\n",
        "<class 'int'>\n",
        ">>> t = 1,\n",
        ">>> len(t)\n",
        "1\n",
        ">>> type(t)\n",
        "<class 'tuple'>"
      ],
      "metadata": {
        "id": "_LzYl5dlHNV7"
      },
      "execution_count": null,
      "outputs": []
    },
    {
      "cell_type": "markdown",
      "source": [
        "# One of usful use of tuples, is in functions that return some parameter. here tuples is suitable than lists:see"
      ],
      "metadata": {
        "id": "HdPbor2yHQQ-"
      }
    },
    {
      "cell_type": "code",
      "source": [
        ">>> myList = [1, 2]\n",
        ">>> def f():\n",
        "...     return myList\n",
        "...\n",
        ">>> a = f()\n",
        ">>> a.append(\"12\")\n",
        ">>> myList\n",
        "[1, 2, '12']\n",
        ">>> a[0] = 10\n",
        ">>> myList\n",
        "[10, 2, '12']"
      ],
      "metadata": {
        "id": "F6OPq_30Ho6o"
      },
      "execution_count": null,
      "outputs": []
    },
    {
      "cell_type": "code",
      "source": [
        ">>> myTuple = 1, 2\n",
        ">>> def f():\n",
        "...     return myTuple\n",
        "...\n",
        ">>> a = f()\n",
        ">>> a\n",
        "(1, 2)\n",
        ">>> a[0] = 10\n",
        "Traceback (most recent call last):\n",
        "File \"<stdin>\", line 1, in <module>\n",
        "TypeError: 'tuple' object does not support item assignment\n",
        ">>> a = 3, 4\n",
        ">>> myTuple\n",
        "(1, 2)"
      ],
      "metadata": {
        "id": "klGR6vRBHuyJ"
      },
      "execution_count": null,
      "outputs": []
    },
    {
      "cell_type": "markdown",
      "source": [
        "# Review of set,{}:"
      ],
      "metadata": {
        "id": "ZmV1aQ8ar-_c"
      }
    },
    {
      "cell_type": "code",
      "source": [
        "nums = {2, 3, 4}\n",
        "nums.add(9)\n",
        "nums"
      ],
      "metadata": {
        "colab": {
          "base_uri": "https://localhost:8080/"
        },
        "id": "6HIBdRyUsFKs",
        "outputId": "079bb50a-ea9a-41cb-b187-eb02b57db69d"
      },
      "execution_count": null,
      "outputs": [
        {
          "output_type": "execute_result",
          "data": {
            "text/plain": [
              "{2, 3, 4, 9}"
            ]
          },
          "metadata": {},
          "execution_count": 1
        }
      ]
    },
    {
      "cell_type": "code",
      "source": [
        ">>> type(set())\n",
        "<class 'set'>\n",
        ">>> st = {2, 3, 1}\n",
        ">>> st\n",
        "{1, 2, 3}\n",
        ">>> len(st)\n",
        "3\n",
        ">>> type(st)\n",
        "<class 'set'>\n",
        ">>> st = {}\n",
        ">>> type(st)\n",
        "<class 'dict'>"
      ],
      "metadata": {
        "id": "8YYiKYaeygBi"
      },
      "execution_count": null,
      "outputs": []
    },
    {
      "cell_type": "code",
      "source": [
        ">>> names = set()\n",
        ">>> names.add('ali')\n",
        ">>> names.add('mohamadreza')\n",
        ">>> names.add('amir')\n",
        ">>> names.add('amir')\n",
        ">>> names\n",
        "{'amir', 'mohamadreza', 'ali'}"
      ],
      "metadata": {
        "id": "-OA-zfuJyjrb"
      },
      "execution_count": null,
      "outputs": []
    },
    {
      "cell_type": "code",
      "source": [
        ">>> nums = set()\n",
        ">>> nums.add(1)\n",
        ">>> nums.add(2)\n",
        ">>> nums.add(3)\n",
        ">>> 1 in nums\n",
        "True\n",
        ">>> 4 in nums\n",
        "False"
      ],
      "metadata": {
        "id": "ZvH7KWw-ymDe"
      },
      "execution_count": null,
      "outputs": []
    },
    {
      "cell_type": "code",
      "source": [
        ">>> a = {1, 2, 3}\n",
        ">>> a.remove(1)\n",
        ">>> a.discard(2)\n",
        ">>> a\n",
        "{3}\n",
        ">>> a.discard(4)\n",
        ">>> a.remove(4)\n",
        "Traceback (most recent call last):\n",
        "  File \"<stdin>\", line 1, in <module>\n",
        "KeyError: 4"
      ],
      "metadata": {
        "id": "-aVFnpvgyp6u"
      },
      "execution_count": null,
      "outputs": []
    },
    {
      "cell_type": "code",
      "source": [
        ">>> a = {1, 2, 3}\n",
        ">>> b = {3, 2, 4}\n",
        ">>> a.intersection(b)\n",
        "{2, 3}\n",
        ">>> b.intersection(a)\n",
        "{2, 3}\n",
        ">>> a & b\n",
        "{2, 3}\n",
        ">>> b.union(a)\n",
        "{1, 2, 3, 4}\n",
        ">>> a | b\n",
        "{1, 2, 3, 4}"
      ],
      "metadata": {
        "id": "sH1Bdnzoyskt",
        "colab": {
          "base_uri": "https://localhost:8080/"
        },
        "outputId": "a7e8a656-c581-4a9c-fd18-483eca830532"
      },
      "execution_count": null,
      "outputs": [
        {
          "output_type": "execute_result",
          "data": {
            "text/plain": [
              "{1, 2, 3, 4}"
            ]
          },
          "metadata": {},
          "execution_count": 2
        }
      ]
    },
    {
      "cell_type": "markdown",
      "source": [
        "# Karmandan Ziadi:"
      ],
      "metadata": {
        "id": "5FiKtXkfRU9M"
      }
    },
    {
      "cell_type": "markdown",
      "source": [
        "My solution:"
      ],
      "metadata": {
        "id": "lztg3zrEjxU2"
      }
    },
    {
      "cell_type": "code",
      "source": [
        "d = {}\n",
        "n = int(input())\n",
        "for i in range(n):\n",
        "    first_n, last_n = map(str,input().split())\n",
        "    x = d.get(first_n,-1)\n",
        "    if x == -1:\n",
        "        d[first_n] = 1\n",
        "    else:\n",
        "        d[first_n] += 1\n",
        "print(d)\n",
        "print(max(d.values()))"
      ],
      "metadata": {
        "id": "kDRtjgh3SAgt"
      },
      "execution_count": null,
      "outputs": []
    },
    {
      "cell_type": "markdown",
      "source": [
        "and see other solution:"
      ],
      "metadata": {
        "id": "26PS-QC-j0e2"
      }
    },
    {
      "cell_type": "code",
      "source": [
        "names = dict()\n",
        "cnt = int(input())\n",
        "for i in range(cnt):\n",
        "    name, family = input().split()\n",
        "    names[name] = names.get(name, 0) + 1     # nice!\n",
        "print(max(names.values()))"
      ],
      "metadata": {
        "id": "1wfeRGW7j38I"
      },
      "execution_count": null,
      "outputs": []
    },
    {
      "cell_type": "code",
      "source": [
        "n=int(input())\n",
        "s=1\n",
        "ls=[]\n",
        "fname=[]\n",
        "while s<=n:\n",
        "    nam=input().split(' ')\n",
        "    x=[nam[0],nam[1]]\n",
        "    ls.append(x)\n",
        "    fname.append(nam[0])\n",
        "    s+=1\n",
        "dups={i:fname.count(i) for i in fname}\n",
        "\n",
        "print(max(dups.values()))"
      ],
      "metadata": {
        "id": "OSytIKYJnSaN"
      },
      "execution_count": null,
      "outputs": []
    },
    {
      "cell_type": "code",
      "source": [
        "n = int(input())\n",
        "names = {}\n",
        "for i in range(n):\n",
        "    name, surname = input().split()\n",
        "    if name in names.keys():\n",
        "        names[name] += 1\n",
        "    else:\n",
        "        names[name] = 1\n",
        "number_of_colors = max(names.values())\n",
        "print(number_of_colors)"
      ],
      "metadata": {
        "id": "3ZEknz4inZxJ"
      },
      "execution_count": null,
      "outputs": []
    },
    {
      "cell_type": "code",
      "source": [
        "my_list=[]\n",
        "my_list_2=[]\n",
        "number=int(input())\n",
        "for i in range(number):\n",
        "    name=str(input())\n",
        "    x=name.split()\n",
        "    my_list.append(*x[::2])\n",
        "for i in (my_list):\n",
        "    z=my_list.count(i)\n",
        "    my_list_2.append(z)\n",
        "print(max(my_list_2))"
      ],
      "metadata": {
        "id": "t8uyXjVJnmEh"
      },
      "execution_count": null,
      "outputs": []
    },
    {
      "cell_type": "markdown",
      "source": [
        "# Review of Functions:\n",
        "\n"
      ],
      "metadata": {
        "id": "Hg0q3N0IqT_-"
      }
    },
    {
      "cell_type": "code",
      "source": [
        ">>> def f(a=0, b=1):\n",
        "...     return a+b\n",
        "...\n",
        ">>> f(2, 3)\n",
        "5\n",
        ">>> f(2)\n",
        "3\n",
        ">>> f()\n",
        "1"
      ],
      "metadata": {
        "id": "SE2s8VxKqeh6"
      },
      "execution_count": null,
      "outputs": []
    },
    {
      "cell_type": "code",
      "source": [
        ">>> def f(a=0, b):\n",
        "...     return a+b   ## have error, b = ?\n"
      ],
      "metadata": {
        "id": "UmIQKbkUqhcP"
      },
      "execution_count": null,
      "outputs": []
    },
    {
      "cell_type": "code",
      "source": [
        ">>> def f(a, L=[]):\n",
        "...     L.append(a)\n",
        "...     return L\n",
        "...\n",
        ">>> f(1)\n",
        "[1]\n",
        ">>> f(2)\n",
        "[1, 2]\n",
        ">>> f(3)\n",
        "[1, 2, 3]"
      ],
      "metadata": {
        "id": "DtgSVl47qrh4"
      },
      "execution_count": null,
      "outputs": []
    },
    {
      "cell_type": "code",
      "source": [
        ">>> def f(a, L=None):\n",
        "...     if L == None:\n",
        "...             L = []\n",
        "...     L.append(a)\n",
        "...     return L\n",
        "...\n",
        ">>> f(1)\n",
        "[1]\n",
        ">>> f(2)\n",
        "[2]\n",
        ">>> f(2,f(1))\n",
        "[1, 2]"
      ],
      "metadata": {
        "id": "CooELyWFqtqj"
      },
      "execution_count": null,
      "outputs": []
    },
    {
      "cell_type": "code",
      "source": [
        ">>> def f(a, *args):    #extra argumans,, *x, any name\n",
        "...     return args\n",
        "...\n",
        ">>> f(2)\n",
        "()\n",
        ">>> f(2, 1)\n",
        "(1,)\n",
        ">>> f(1, 2, 3)\n",
        "(2, 3)"
      ],
      "metadata": {
        "id": "wfJjoPJXq62I"
      },
      "execution_count": null,
      "outputs": []
    },
    {
      "cell_type": "code",
      "source": [
        ">>> def f(*args, **kwargs):\n",
        "...     print(args)\n",
        "...     print(kwargs)\n",
        "...\n",
        ">>> f(a=2)\n",
        "()\n",
        "{'a': 2}\n",
        ">>> f(1, a=2)\n",
        "(1,)\n",
        "{'a': 2}\n",
        ">>> f(1, a=2, 2)\n",
        "  File \"<stdin>\", line 1\n",
        "SyntaxError: positional argument follows keyword argument"
      ],
      "metadata": {
        "id": "JBKiV3MyrlyW"
      },
      "execution_count": null,
      "outputs": []
    },
    {
      "cell_type": "code",
      "source": [
        ">>> def printUsers(**users):\n",
        "...     for name,age in users.items():\n",
        "...         print(f\"{name} is {age} years old\")\n",
        "...\n",
        ">>> printUsers(ali=21, mamadreza=18, mahdi=22)\n",
        "'ali is 21 years old'\n",
        "'mamadreza is 18 years old'\n",
        "'mahdi is 22 years old'"
      ],
      "metadata": {
        "id": "ObCNCn3ZrqNP"
      },
      "execution_count": null,
      "outputs": []
    },
    {
      "cell_type": "markdown",
      "source": [
        "When input of function is a list:"
      ],
      "metadata": {
        "id": "cTXF93XB2R_q"
      }
    },
    {
      "cell_type": "code",
      "source": [
        ">>> def mean(*numbers):\n",
        "...     return sum(numbers)/len(numbers)\n",
        "...\n",
        ">>> data = [1, 2, 3, 4, 5]\n",
        ">>> mean(*data)\n",
        "3.0"
      ],
      "metadata": {
        "id": "Kel9JkwZ2ZYt"
      },
      "execution_count": null,
      "outputs": []
    },
    {
      "cell_type": "markdown",
      "source": [
        "when dict is an input of function:\n"
      ],
      "metadata": {
        "id": "0VdpzQt_2aYw"
      }
    },
    {
      "cell_type": "code",
      "source": [
        ">>> def people(**people):\n",
        "...     for name, job in people.items():\n",
        "...         print(f'{name} is a {job}')\n",
        "...\n",
        ">>> data = {'mohamad': 'teacher', 'samad': 'worker'}\n",
        ">>> people(**data)\n",
        "'mohamad is a teacher'\n",
        "'samad is a worker'"
      ],
      "metadata": {
        "id": "UnrXEefg2gjo"
      },
      "execution_count": null,
      "outputs": []
    },
    {
      "cell_type": "markdown",
      "source": [
        "# Lambda:"
      ],
      "metadata": {
        "id": "7qNqIzp7ayVz"
      }
    },
    {
      "cell_type": "code",
      "source": [
        ">>> (lambda x: x * x)(2)\n",
        "4\n",
        ">>> power_two = lambda x: x * x\n",
        ">>> power_two(2)\n",
        "4\n",
        ">>> average = lambda a, b: (a + b) / 2\n",
        ">>> average(20, 18)\n",
        "19.0\n",
        ">>> statistic = lambda a, b: [(a + b) / 2, max(a, b)]\n",
        ">>> statistic(20, 18)\n",
        "[19.0, 20]"
      ],
      "metadata": {
        "id": "h9ESkGvla2Cq"
      },
      "execution_count": null,
      "outputs": []
    },
    {
      "cell_type": "code",
      "source": [
        ">>> mylist = [(1,3),(4,5),(2,10),(9,6)]\n",
        "\n",
        ">>> mylist.sort()\n",
        ">>> mylist\n",
        "[(1, 3), (2, 10), (4, 5), (9, 6)]\n",
        "\n",
        ">>> mylist.sort(key = lambda x: x[-1])\n",
        ">>> mylist\n",
        "[(1, 3), (4, 5), (9, 6), (2, 10)]"
      ],
      "metadata": {
        "id": "uRJJqjLhkloJ"
      },
      "execution_count": null,
      "outputs": []
    },
    {
      "cell_type": "code",
      "source": [
        ">>> def myfunc(n):\n",
        "          return lambda a : a * n\n",
        "\n",
        ">>> mydoubler = myfunc(2)\n",
        ">>> mytripler = myfunc(3)\n",
        ">>>\n",
        ">>> mydoubler(11)\n",
        "22\n",
        ">>> mytripler(11)\n",
        "33"
      ],
      "metadata": {
        "id": "tFZgogpHkn_M"
      },
      "execution_count": null,
      "outputs": []
    },
    {
      "cell_type": "markdown",
      "source": [
        "sabte nam"
      ],
      "metadata": {
        "id": "1s4ZBsJ6zC0m"
      }
    },
    {
      "cell_type": "code",
      "source": [
        "def check_registration_rules(**users):\n",
        "    ans = []\n",
        "    for user, password in users.items():\n",
        "        if len(password) >= 6 and len(user) >= 4 and password.isdigit() is not True and \\\n",
        "        user != \"quera\" and user != 'codecup':\n",
        "          ans.append(user)\n",
        "    return ans\n",
        "check_registration_rules(sara='qwei8a',kados='129872s',als='2w3edfre',quera='qweijs',asdfghj='1234567',asd='jhyg67h')\n"
      ],
      "metadata": {
        "colab": {
          "base_uri": "https://localhost:8080/"
        },
        "id": "ftk6Svk4zFF5",
        "outputId": "da1de313-3390-4af9-ec88-12bdc083115e"
      },
      "execution_count": null,
      "outputs": [
        {
          "output_type": "execute_result",
          "data": {
            "text/plain": [
              "['sara', 'kados']"
            ]
          },
          "metadata": {},
          "execution_count": 12
        }
      ]
    },
    {
      "cell_type": "markdown",
      "source": [
        "OR these solution:"
      ],
      "metadata": {
        "id": "QNTLwfmr57TB"
      }
    },
    {
      "cell_type": "code",
      "source": [
        "def check_registration_rules(**kwargs):\n",
        "    yes = []\n",
        "    invalids = ['quera', 'codecup']\n",
        "    for item in kwargs:\n",
        "        if not item in invalids and len(item) > 3 and len(kwargs[item]) > 5 and not kwargs[item].isdigit():\n",
        "            yes.append(item)\n",
        "    return yes\n",
        "\n",
        "# print(check_registration_rules(Aaaaa='wqwasasq', aaa='kjhx14567', username='password', sadegh='He3@lsa', quera='kLS45@l$'))\n"
      ],
      "metadata": {
        "id": "cTpQuzgG58wB"
      },
      "execution_count": null,
      "outputs": []
    },
    {
      "cell_type": "code",
      "source": [
        "def check_registration_rules(**kwargs):\n",
        "    s=[]\n",
        "    for user,pas in kwargs.items():\n",
        "        if len(pas)>=6:\n",
        "            if len(user)>=4:\n",
        "                print(user)\n",
        "                if user!='quera' and user!=\"codecup\":\n",
        "                    if not pas.isdigit():\n",
        "                        s.append(user)\n",
        "    return(s)"
      ],
      "metadata": {
        "id": "FRHXbXKX6Lu1"
      },
      "execution_count": null,
      "outputs": []
    },
    {
      "cell_type": "code",
      "source": [
        "def check_registration_rules(**kwargs):\n",
        "    valid_users = []\n",
        "    for name, password in kwargs.items():\n",
        "        if len(password) >= 6 and len(name) >= 4 \\\n",
        "           and name not in (\"quera\", \"codecup\") \\\n",
        "           and not password.isnumeric():\n",
        "            valid_users.append(name)\n",
        "    return valid_users\n"
      ],
      "metadata": {
        "id": "85vC-LeS6S63"
      },
      "execution_count": null,
      "outputs": []
    },
    {
      "cell_type": "code",
      "source": [
        "def check_registration_rules(**kwargs):\n",
        "    o = []\n",
        "    h=['quera', 'codecup']\n",
        "    for x in kwargs:\n",
        "        if not x in h and len(x) > 3 and len(kwargs[x])> 5 and not kwargs[x].isdigit():\n",
        "            o.append(x)\n",
        "    return o"
      ],
      "metadata": {
        "id": "pBM_vS9J6pPS"
      },
      "execution_count": null,
      "outputs": []
    },
    {
      "cell_type": "markdown",
      "source": [
        "# Mohasebat chan taey:some solution"
      ],
      "metadata": {
        "id": "BjFvVqqTC0ma"
      }
    },
    {
      "cell_type": "code",
      "source": [
        "a = []\n",
        "def calc(a:list) -> tuple:\n",
        "   a = sorted(a)\n",
        "   max_a = max(a)\n",
        "   ave_a = (sum(a)/len(a))\n",
        "   if len(a) % 2 != 0:\n",
        "       med_a = a[int((len(a) + 1)/2 -1)]\n",
        "   else:\n",
        "       med_a = (a[int(len(a)/2 -1)] + (a[int(len(a)/2)]))/2\n",
        "   ans = (ave_a, med_a, max_a)\n",
        "   return ans\n",
        "calc([2, 20, 30, 29])"
      ],
      "metadata": {
        "colab": {
          "base_uri": "https://localhost:8080/"
        },
        "id": "Be2aeoXgC7Rv",
        "outputId": "6b9f21bb-deee-4943-ecc7-306551a7096d"
      },
      "execution_count": null,
      "outputs": [
        {
          "output_type": "execute_result",
          "data": {
            "text/plain": [
              "(20.25, 24.5, 30)"
            ]
          },
          "metadata": {},
          "execution_count": 2
        }
      ]
    },
    {
      "cell_type": "code",
      "source": [
        "def calc(a):\n",
        "    avg = sum(a) / len(a)\n",
        "    maxi = max(a)\n",
        "    median = ''\n",
        "    if len(a) % 2 == 0:\n",
        "        index = len(a)//2\n",
        "        median = sum(sorted(a)[index-1:index+1])/2\n",
        "    else:\n",
        "        median = sorted(a)[int(len(a)/2)]\n",
        "    return (avg, median, maxi)"
      ],
      "metadata": {
        "id": "KWTGjFT2DyEC"
      },
      "execution_count": null,
      "outputs": []
    },
    {
      "cell_type": "code",
      "source": [
        "def calc(a: list) -> tuple:\n",
        "    a = sorted(a)\n",
        "    average = sum(a) / len(a)\n",
        "    if len(a) % 2 == 0:\n",
        "        median = (a[len(a) // 2] + a[(len(a) // 2) - 1]) / 2\n",
        "    else:\n",
        "        median = a[(len(a) // 2)]\n",
        "    maxi = max(a)\n",
        "    return average, median, maxi"
      ],
      "metadata": {
        "id": "ppl0d4nSEDxD"
      },
      "execution_count": null,
      "outputs": []
    },
    {
      "cell_type": "code",
      "source": [
        "import keyword\n",
        "iskeyword('if')"
      ],
      "metadata": {
        "id": "0ALF_23SeNXR"
      },
      "execution_count": null,
      "outputs": []
    },
    {
      "cell_type": "markdown",
      "source": [
        "# Lambda"
      ],
      "metadata": {
        "id": "5cGP9wigJnws"
      }
    },
    {
      "cell_type": "code",
      "source": [
        ">>> (lambda x: x * x)(2)\n",
        "4\n",
        ">>> power_two = lambda x: x * x\n",
        ">>> power_two(2)\n",
        "4\n",
        ">>> average = lambda a, b: (a + b) / 2\n",
        ">>> average(20, 18)\n",
        "19.0\n",
        ">>> statistic = lambda a, b: [(a + b) / 2, max(a, b)]\n",
        ">>> statistic(20, 18)\n",
        "[19.0, 20]"
      ],
      "metadata": {
        "id": "24O7ZxI0JpzG"
      },
      "execution_count": null,
      "outputs": []
    },
    {
      "cell_type": "code",
      "source": [
        ">>> def myfunc(n):\n",
        "          return lambda a : a * n\n",
        "\n",
        ">>> mydoubler = myfunc(2)\n",
        ">>> mytripler = myfunc(3)\n",
        ">>>\n",
        ">>> mydoubler(11)\n",
        "22\n",
        ">>> mytripler(11)\n",
        "33"
      ],
      "metadata": {
        "id": "uuicOhNTe5fv"
      },
      "execution_count": null,
      "outputs": []
    },
    {
      "cell_type": "markdown",
      "source": [
        "# Generators:"
      ],
      "metadata": {
        "id": "F7qG1Xkgfg1W"
      }
    },
    {
      "cell_type": "markdown",
      "source": [
        "first see use of list"
      ],
      "metadata": {
        "id": "DpOeP8qffp_n"
      }
    },
    {
      "cell_type": "code",
      "source": [
        "def get_list(n):\n",
        "    ans = list()\n",
        "    for i in range(n):\n",
        "        ans.append(i)\n",
        "    return ans\n",
        "a = get_list(5 * 100)\n",
        "\n",
        "import sys\n",
        "print(sys.getsizeof(a))"
      ],
      "metadata": {
        "id": "5e2d2ipdfkE0"
      },
      "execution_count": null,
      "outputs": []
    },
    {
      "cell_type": "code",
      "source": [
        "def generator_list(n):\n",
        "    for i in range (n):\n",
        "        yield i\n",
        "g = generator_list(100 * 1000)\n",
        "import sys\n",
        "print(sys.getsizeof(g)) # low memory it use"
      ],
      "metadata": {
        "id": "nAI0WuG7h7hq"
      },
      "execution_count": null,
      "outputs": []
    },
    {
      "cell_type": "markdown",
      "source": [
        "# Read and Write Files in Python:"
      ],
      "metadata": {
        "id": "4ST0EMihbkrt"
      }
    },
    {
      "cell_type": "code",
      "source": [
        "with open ('ramin_text.txt', 'w')as t:\n",
        "\n",
        "    t.write('this is test text.\\n')\n",
        "    t.write('Hi guys.')"
      ],
      "metadata": {
        "id": "4wHS16sVbfHP"
      },
      "execution_count": null,
      "outputs": []
    },
    {
      "cell_type": "code",
      "source": [
        "s = 'abcfg'\n",
        "i = 0\n",
        "while True:\n",
        "   if s[i] == 'd' or i == len(s):\n",
        "       break\n",
        "   print(s[i] , end= ' ')\n",
        "   i += 1"
      ],
      "metadata": {
        "id": "v5XDtoag4HcL"
      },
      "execution_count": null,
      "outputs": []
    },
    {
      "cell_type": "markdown",
      "source": [
        "# yaftane code_line that != #comment or \" \"space"
      ],
      "metadata": {
        "id": "wVV9kCJ8QvUN"
      }
    },
    {
      "cell_type": "code",
      "source": [
        "def solve(file_name):\n",
        "\twith open(file_name, \"r\") as f:\n",
        "\t\tans = 0\n",
        "\t\tfor line in f.readlines():\n",
        "\t\t    line = line.strip()\n",
        "\t\t    if line == '' or line[0] == '#':\n",
        "\t\t        continue\n",
        "\t\t    ans +=1\n",
        "\t\treturn ans\n",
        "\n"
      ],
      "metadata": {
        "id": "DITU_ZXGPxwR"
      },
      "execution_count": null,
      "outputs": []
    },
    {
      "cell_type": "markdown",
      "source": [
        "OR other solution:"
      ],
      "metadata": {
        "id": "cdobkRWYQ705"
      }
    },
    {
      "cell_type": "code",
      "source": [
        "def solve(path):\n",
        "    import re\n",
        "    with open(path, \"r\") as f:\n",
        "        list = []\n",
        "        while True:\n",
        "            x = f.readline()\n",
        "            if not x:\n",
        "                break\n",
        "            y = x.strip()\n",
        "            list.append(y)\n",
        "        cnt = 0\n",
        "        for i in list:\n",
        "            if re.match(r'^#.*', i):\n",
        "                continue\n",
        "            if i == \"\":\n",
        "                continue\n",
        "            cnt += 1\n",
        "        return cnt\n"
      ],
      "metadata": {
        "id": "gFKCzCJsQ-9I"
      },
      "execution_count": null,
      "outputs": []
    },
    {
      "cell_type": "code",
      "source": [
        "def solve(path):\n",
        "    with open(path, \"r\") as file:\n",
        "        cnt = 0\n",
        "        for row in file:\n",
        "            cnt +=1\n",
        "            txt = row.strip()\n",
        "            if txt == '' or txt[0] == '#':\n",
        "                cnt -=1\n",
        "           # print(row[0])\n",
        "        return(cnt)\n"
      ],
      "metadata": {
        "id": "SqvXqNuxRFzZ"
      },
      "execution_count": null,
      "outputs": []
    },
    {
      "cell_type": "code",
      "source": [
        "u = open('G:\\Film\\test.txt','w')\n",
        "u.write('Hi')"
      ],
      "metadata": {
        "colab": {
          "base_uri": "https://localhost:8080/"
        },
        "id": "QeUxSJCId0FV",
        "outputId": "725c43f8-a7b3-45b7-d86e-b350b1c8e527"
      },
      "execution_count": null,
      "outputs": [
        {
          "output_type": "execute_result",
          "data": {
            "text/plain": [
              "2"
            ]
          },
          "metadata": {},
          "execution_count": 5
        }
      ]
    },
    {
      "cell_type": "markdown",
      "source": [
        "# CSV Files:"
      ],
      "metadata": {
        "id": "suFSOUu-_Sak"
      }
    },
    {
      "cell_type": "code",
      "source": [
        "import csv\n",
        "with open('My_CSV.csv' , 'r') as csv_file:\n",
        "    csv_reader = csv.reader(csv_file, delimiter= ',')\n",
        "    line_count = 0\n",
        "    for row in csv_reader:\n",
        "        if line_count == 0:\n",
        "            print(f'column Title are {\"\",\"sep=\".join(row)}') # \"\" not ''\n",
        "            line_count += 1\n",
        "        else :\n",
        "            print(f'\\t{row[0]} worked in {row[1]} dep live in {row[2]} in city {row[3]}')\n",
        "            line_count += 1\n",
        "    print(f'{line_count} line process')"
      ],
      "metadata": {
        "id": "L6kufDrJ_WkQ"
      },
      "execution_count": null,
      "outputs": []
    },
    {
      "cell_type": "markdown",
      "source": [
        "# JSON Files:"
      ],
      "metadata": {
        "id": "-q_RoD_B0Nu3"
      }
    },
    {
      "cell_type": "code",
      "source": [
        "import json\n",
        "people_string = '''\n",
        "{\n",
        "    \"people\" : [\n",
        "        {\n",
        "            \"name\" : \"Hamid Bagheri\",\n",
        "            \"phone\" : \"0912..\",\n",
        "            \"email\" : [\"h.bagheri58@gmail.com\", \"hamid58b@gmail.com\"],\n",
        "            \"has Registered\" : false\n",
        "        },\n",
        "        {\n",
        "            \"name\" : \"Baran Bagheri\",\n",
        "            \"phone\" : \"0912\",\n",
        "            \"email\" : null,\n",
        "            \"has Registered\" : true\n",
        "        }\n",
        "    ]\n",
        "}\n",
        "'''\n",
        "data = json.loads(people_string)\n",
        "print(data)\n",
        "print(data['people'][1])\n",
        "print(data.keys())\n",
        "print(data.values())\n",
        "print(type(data))\n",
        "print(type(data['people'][0]))\n",
        "print('-------------------')\n",
        "for person in data['people']:\n",
        "    print(person) # or del person['phone]\n",
        "print('again convert to json:--------------------------------------------')\n",
        "# again convert to json\n",
        "new_string = json.dumps(data) # or ...(data, indent = 2)\n",
        "print(type(new_string))\n",
        "print(new_string)\n"
      ],
      "metadata": {
        "id": "GOk-qWgJ0WTp"
      },
      "execution_count": null,
      "outputs": []
    },
    {
      "cell_type": "markdown",
      "source": [
        "# OS Library"
      ],
      "metadata": {
        "id": "e-fNcHFOsBfc"
      }
    },
    {
      "cell_type": "code",
      "source": [
        "import os\n",
        "os.mkdir('g:\\\\1-Ramin\\\\Programming\\\\1-Training\\\\My_Test_Files\\\\Quera_Python\\\\img') # create \"img\" folder:"
      ],
      "metadata": {
        "id": "yDNFOwmisD9I"
      },
      "execution_count": null,
      "outputs": []
    },
    {
      "cell_type": "code",
      "source": [
        "import os\n",
        "os.getcwd()\n",
        "os.listdir()"
      ],
      "metadata": {
        "colab": {
          "base_uri": "https://localhost:8080/"
        },
        "id": "AQ92IAvZsZ3b",
        "outputId": "176ce56d-163f-4abc-c2a3-fb7fcf055311"
      },
      "execution_count": 1,
      "outputs": [
        {
          "output_type": "execute_result",
          "data": {
            "text/plain": [
              "['.config', 'sample_data']"
            ]
          },
          "metadata": {},
          "execution_count": 1
        }
      ]
    },
    {
      "cell_type": "code",
      "source": [
        "os.system('date')"
      ],
      "metadata": {
        "colab": {
          "base_uri": "https://localhost:8080/"
        },
        "id": "mI6yJCFPzGhT",
        "outputId": "04c6dd4e-dc8b-4ca4-c649-95d19e91e93a"
      },
      "execution_count": 2,
      "outputs": [
        {
          "output_type": "execute_result",
          "data": {
            "text/plain": [
              "0"
            ]
          },
          "metadata": {},
          "execution_count": 2
        }
      ]
    },
    {
      "cell_type": "markdown",
      "source": [
        "# This is a script! Why??"
      ],
      "metadata": {
        "id": "pPzpekSJMqfa"
      }
    },
    {
      "cell_type": "code",
      "source": [
        "import numpy as np\n",
        "\n",
        "def f(x):\n",
        "    \"\"\"\n",
        "    A quadratic function.\n",
        "    \"\"\"\n",
        "    y = x**2 + 1.\n",
        "    return y\n",
        "\n",
        "print (\"     x        f(x)\")\n",
        "for x in np.linspace(0,4,3):\n",
        "    print (\"%8.3f  %8.3f\" % (x, f(x)))"
      ],
      "metadata": {
        "id": "g1Tdb8uLMsBr"
      },
      "execution_count": null,
      "outputs": []
    }
  ]
}